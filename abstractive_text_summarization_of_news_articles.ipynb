{
  "metadata": {
    "kernelspec": {
      "language": "python",
      "display_name": "Python 3",
      "name": "python3"
    },
    "language_info": {
      "name": "python",
      "version": "3.7.12",
      "mimetype": "text/x-python",
      "codemirror_mode": {
        "name": "ipython",
        "version": 3
      },
      "pygments_lexer": "ipython3",
      "nbconvert_exporter": "python",
      "file_extension": ".py"
    },
    "colab": {
      "provenance": [],
      "collapsed_sections": []
    },
    "accelerator": "TPU",
    "gpuClass": "standard",
    "widgets": {
      "application/vnd.jupyter.widget-state+json": {
        "baa3bbbb7f484869b5dd6fdc6b7a9356": {
          "model_module": "@jupyter-widgets/controls",
          "model_name": "HBoxModel",
          "model_module_version": "1.5.0",
          "state": {
            "_dom_classes": [],
            "_model_module": "@jupyter-widgets/controls",
            "_model_module_version": "1.5.0",
            "_model_name": "HBoxModel",
            "_view_count": null,
            "_view_module": "@jupyter-widgets/controls",
            "_view_module_version": "1.5.0",
            "_view_name": "HBoxView",
            "box_style": "",
            "children": [
              "IPY_MODEL_5062f59ccac340aebe7b21165743f2ee",
              "IPY_MODEL_a204602a3e9844c094b72ef49dca3979",
              "IPY_MODEL_ef10cdccfb3a46a4ab9b2450a52a9c9c"
            ],
            "layout": "IPY_MODEL_39c7efbab27447d286412b62148b5382"
          }
        },
        "5062f59ccac340aebe7b21165743f2ee": {
          "model_module": "@jupyter-widgets/controls",
          "model_name": "HTMLModel",
          "model_module_version": "1.5.0",
          "state": {
            "_dom_classes": [],
            "_model_module": "@jupyter-widgets/controls",
            "_model_module_version": "1.5.0",
            "_model_name": "HTMLModel",
            "_view_count": null,
            "_view_module": "@jupyter-widgets/controls",
            "_view_module_version": "1.5.0",
            "_view_name": "HTMLView",
            "description": "",
            "description_tooltip": null,
            "layout": "IPY_MODEL_93180af5820f4bbc88642406bc1f8948",
            "placeholder": "​",
            "style": "IPY_MODEL_24902946d8e34d4091c7ba44dfd64e0f",
            "value": "100%"
          }
        },
        "a204602a3e9844c094b72ef49dca3979": {
          "model_module": "@jupyter-widgets/controls",
          "model_name": "FloatProgressModel",
          "model_module_version": "1.5.0",
          "state": {
            "_dom_classes": [],
            "_model_module": "@jupyter-widgets/controls",
            "_model_module_version": "1.5.0",
            "_model_name": "FloatProgressModel",
            "_view_count": null,
            "_view_module": "@jupyter-widgets/controls",
            "_view_module_version": "1.5.0",
            "_view_name": "ProgressView",
            "bar_style": "success",
            "description": "",
            "description_tooltip": null,
            "layout": "IPY_MODEL_4c429e6f5a244bbcb0cb8d23a2bdeab6",
            "max": 7999,
            "min": 0,
            "orientation": "horizontal",
            "style": "IPY_MODEL_ecc30c8bd1bf44a99c8178eea6b98526",
            "value": 7999
          }
        },
        "ef10cdccfb3a46a4ab9b2450a52a9c9c": {
          "model_module": "@jupyter-widgets/controls",
          "model_name": "HTMLModel",
          "model_module_version": "1.5.0",
          "state": {
            "_dom_classes": [],
            "_model_module": "@jupyter-widgets/controls",
            "_model_module_version": "1.5.0",
            "_model_name": "HTMLModel",
            "_view_count": null,
            "_view_module": "@jupyter-widgets/controls",
            "_view_module_version": "1.5.0",
            "_view_name": "HTMLView",
            "description": "",
            "description_tooltip": null,
            "layout": "IPY_MODEL_0cc974a32cd14929aa9d562cac854118",
            "placeholder": "​",
            "style": "IPY_MODEL_fd9da3c7ebb541f9b494188667859114",
            "value": " 7999/7999 [00:01&lt;00:00, 6773.72it/s]"
          }
        },
        "39c7efbab27447d286412b62148b5382": {
          "model_module": "@jupyter-widgets/base",
          "model_name": "LayoutModel",
          "model_module_version": "1.2.0",
          "state": {
            "_model_module": "@jupyter-widgets/base",
            "_model_module_version": "1.2.0",
            "_model_name": "LayoutModel",
            "_view_count": null,
            "_view_module": "@jupyter-widgets/base",
            "_view_module_version": "1.2.0",
            "_view_name": "LayoutView",
            "align_content": null,
            "align_items": null,
            "align_self": null,
            "border": null,
            "bottom": null,
            "display": null,
            "flex": null,
            "flex_flow": null,
            "grid_area": null,
            "grid_auto_columns": null,
            "grid_auto_flow": null,
            "grid_auto_rows": null,
            "grid_column": null,
            "grid_gap": null,
            "grid_row": null,
            "grid_template_areas": null,
            "grid_template_columns": null,
            "grid_template_rows": null,
            "height": null,
            "justify_content": null,
            "justify_items": null,
            "left": null,
            "margin": null,
            "max_height": null,
            "max_width": null,
            "min_height": null,
            "min_width": null,
            "object_fit": null,
            "object_position": null,
            "order": null,
            "overflow": null,
            "overflow_x": null,
            "overflow_y": null,
            "padding": null,
            "right": null,
            "top": null,
            "visibility": null,
            "width": null
          }
        },
        "93180af5820f4bbc88642406bc1f8948": {
          "model_module": "@jupyter-widgets/base",
          "model_name": "LayoutModel",
          "model_module_version": "1.2.0",
          "state": {
            "_model_module": "@jupyter-widgets/base",
            "_model_module_version": "1.2.0",
            "_model_name": "LayoutModel",
            "_view_count": null,
            "_view_module": "@jupyter-widgets/base",
            "_view_module_version": "1.2.0",
            "_view_name": "LayoutView",
            "align_content": null,
            "align_items": null,
            "align_self": null,
            "border": null,
            "bottom": null,
            "display": null,
            "flex": null,
            "flex_flow": null,
            "grid_area": null,
            "grid_auto_columns": null,
            "grid_auto_flow": null,
            "grid_auto_rows": null,
            "grid_column": null,
            "grid_gap": null,
            "grid_row": null,
            "grid_template_areas": null,
            "grid_template_columns": null,
            "grid_template_rows": null,
            "height": null,
            "justify_content": null,
            "justify_items": null,
            "left": null,
            "margin": null,
            "max_height": null,
            "max_width": null,
            "min_height": null,
            "min_width": null,
            "object_fit": null,
            "object_position": null,
            "order": null,
            "overflow": null,
            "overflow_x": null,
            "overflow_y": null,
            "padding": null,
            "right": null,
            "top": null,
            "visibility": null,
            "width": null
          }
        },
        "24902946d8e34d4091c7ba44dfd64e0f": {
          "model_module": "@jupyter-widgets/controls",
          "model_name": "DescriptionStyleModel",
          "model_module_version": "1.5.0",
          "state": {
            "_model_module": "@jupyter-widgets/controls",
            "_model_module_version": "1.5.0",
            "_model_name": "DescriptionStyleModel",
            "_view_count": null,
            "_view_module": "@jupyter-widgets/base",
            "_view_module_version": "1.2.0",
            "_view_name": "StyleView",
            "description_width": ""
          }
        },
        "4c429e6f5a244bbcb0cb8d23a2bdeab6": {
          "model_module": "@jupyter-widgets/base",
          "model_name": "LayoutModel",
          "model_module_version": "1.2.0",
          "state": {
            "_model_module": "@jupyter-widgets/base",
            "_model_module_version": "1.2.0",
            "_model_name": "LayoutModel",
            "_view_count": null,
            "_view_module": "@jupyter-widgets/base",
            "_view_module_version": "1.2.0",
            "_view_name": "LayoutView",
            "align_content": null,
            "align_items": null,
            "align_self": null,
            "border": null,
            "bottom": null,
            "display": null,
            "flex": null,
            "flex_flow": null,
            "grid_area": null,
            "grid_auto_columns": null,
            "grid_auto_flow": null,
            "grid_auto_rows": null,
            "grid_column": null,
            "grid_gap": null,
            "grid_row": null,
            "grid_template_areas": null,
            "grid_template_columns": null,
            "grid_template_rows": null,
            "height": null,
            "justify_content": null,
            "justify_items": null,
            "left": null,
            "margin": null,
            "max_height": null,
            "max_width": null,
            "min_height": null,
            "min_width": null,
            "object_fit": null,
            "object_position": null,
            "order": null,
            "overflow": null,
            "overflow_x": null,
            "overflow_y": null,
            "padding": null,
            "right": null,
            "top": null,
            "visibility": null,
            "width": null
          }
        },
        "ecc30c8bd1bf44a99c8178eea6b98526": {
          "model_module": "@jupyter-widgets/controls",
          "model_name": "ProgressStyleModel",
          "model_module_version": "1.5.0",
          "state": {
            "_model_module": "@jupyter-widgets/controls",
            "_model_module_version": "1.5.0",
            "_model_name": "ProgressStyleModel",
            "_view_count": null,
            "_view_module": "@jupyter-widgets/base",
            "_view_module_version": "1.2.0",
            "_view_name": "StyleView",
            "bar_color": null,
            "description_width": ""
          }
        },
        "0cc974a32cd14929aa9d562cac854118": {
          "model_module": "@jupyter-widgets/base",
          "model_name": "LayoutModel",
          "model_module_version": "1.2.0",
          "state": {
            "_model_module": "@jupyter-widgets/base",
            "_model_module_version": "1.2.0",
            "_model_name": "LayoutModel",
            "_view_count": null,
            "_view_module": "@jupyter-widgets/base",
            "_view_module_version": "1.2.0",
            "_view_name": "LayoutView",
            "align_content": null,
            "align_items": null,
            "align_self": null,
            "border": null,
            "bottom": null,
            "display": null,
            "flex": null,
            "flex_flow": null,
            "grid_area": null,
            "grid_auto_columns": null,
            "grid_auto_flow": null,
            "grid_auto_rows": null,
            "grid_column": null,
            "grid_gap": null,
            "grid_row": null,
            "grid_template_areas": null,
            "grid_template_columns": null,
            "grid_template_rows": null,
            "height": null,
            "justify_content": null,
            "justify_items": null,
            "left": null,
            "margin": null,
            "max_height": null,
            "max_width": null,
            "min_height": null,
            "min_width": null,
            "object_fit": null,
            "object_position": null,
            "order": null,
            "overflow": null,
            "overflow_x": null,
            "overflow_y": null,
            "padding": null,
            "right": null,
            "top": null,
            "visibility": null,
            "width": null
          }
        },
        "fd9da3c7ebb541f9b494188667859114": {
          "model_module": "@jupyter-widgets/controls",
          "model_name": "DescriptionStyleModel",
          "model_module_version": "1.5.0",
          "state": {
            "_model_module": "@jupyter-widgets/controls",
            "_model_module_version": "1.5.0",
            "_model_name": "DescriptionStyleModel",
            "_view_count": null,
            "_view_module": "@jupyter-widgets/base",
            "_view_module_version": "1.2.0",
            "_view_name": "StyleView",
            "description_width": ""
          }
        },
        "5db647c627954ce4bbf2a1f4e9350538": {
          "model_module": "@jupyter-widgets/controls",
          "model_name": "HBoxModel",
          "model_module_version": "1.5.0",
          "state": {
            "_dom_classes": [],
            "_model_module": "@jupyter-widgets/controls",
            "_model_module_version": "1.5.0",
            "_model_name": "HBoxModel",
            "_view_count": null,
            "_view_module": "@jupyter-widgets/controls",
            "_view_module_version": "1.5.0",
            "_view_name": "HBoxView",
            "box_style": "",
            "children": [
              "IPY_MODEL_43fb8361610547ba928d8a735b96ab4a",
              "IPY_MODEL_1462178b22db48b09d67515dd12365b3",
              "IPY_MODEL_24b346937b0649b3a55431029188d409"
            ],
            "layout": "IPY_MODEL_5d0407841528465fa578b14ca3f2413f"
          }
        },
        "43fb8361610547ba928d8a735b96ab4a": {
          "model_module": "@jupyter-widgets/controls",
          "model_name": "HTMLModel",
          "model_module_version": "1.5.0",
          "state": {
            "_dom_classes": [],
            "_model_module": "@jupyter-widgets/controls",
            "_model_module_version": "1.5.0",
            "_model_name": "HTMLModel",
            "_view_count": null,
            "_view_module": "@jupyter-widgets/controls",
            "_view_module_version": "1.5.0",
            "_view_name": "HTMLView",
            "description": "",
            "description_tooltip": null,
            "layout": "IPY_MODEL_0b68cb2562cf46ee8f43a9d72e5f9542",
            "placeholder": "​",
            "style": "IPY_MODEL_33c397044865462cbb314ef820ffb2a3",
            "value": "100%"
          }
        },
        "1462178b22db48b09d67515dd12365b3": {
          "model_module": "@jupyter-widgets/controls",
          "model_name": "FloatProgressModel",
          "model_module_version": "1.5.0",
          "state": {
            "_dom_classes": [],
            "_model_module": "@jupyter-widgets/controls",
            "_model_module_version": "1.5.0",
            "_model_name": "FloatProgressModel",
            "_view_count": null,
            "_view_module": "@jupyter-widgets/controls",
            "_view_module_version": "1.5.0",
            "_view_name": "ProgressView",
            "bar_style": "success",
            "description": "",
            "description_tooltip": null,
            "layout": "IPY_MODEL_2ccf988897e44a16b647b96f528b891d",
            "max": 7999,
            "min": 0,
            "orientation": "horizontal",
            "style": "IPY_MODEL_53655c167ec84ce9a4b5ec0cb3744400",
            "value": 7999
          }
        },
        "24b346937b0649b3a55431029188d409": {
          "model_module": "@jupyter-widgets/controls",
          "model_name": "HTMLModel",
          "model_module_version": "1.5.0",
          "state": {
            "_dom_classes": [],
            "_model_module": "@jupyter-widgets/controls",
            "_model_module_version": "1.5.0",
            "_model_name": "HTMLModel",
            "_view_count": null,
            "_view_module": "@jupyter-widgets/controls",
            "_view_module_version": "1.5.0",
            "_view_name": "HTMLView",
            "description": "",
            "description_tooltip": null,
            "layout": "IPY_MODEL_fdb7a8dba2984874a261f5e877171b33",
            "placeholder": "​",
            "style": "IPY_MODEL_f6af65b064e045caa8d9bc4a7c6859d7",
            "value": " 7999/7999 [00:00&lt;00:00, 14831.64it/s]"
          }
        },
        "5d0407841528465fa578b14ca3f2413f": {
          "model_module": "@jupyter-widgets/base",
          "model_name": "LayoutModel",
          "model_module_version": "1.2.0",
          "state": {
            "_model_module": "@jupyter-widgets/base",
            "_model_module_version": "1.2.0",
            "_model_name": "LayoutModel",
            "_view_count": null,
            "_view_module": "@jupyter-widgets/base",
            "_view_module_version": "1.2.0",
            "_view_name": "LayoutView",
            "align_content": null,
            "align_items": null,
            "align_self": null,
            "border": null,
            "bottom": null,
            "display": null,
            "flex": null,
            "flex_flow": null,
            "grid_area": null,
            "grid_auto_columns": null,
            "grid_auto_flow": null,
            "grid_auto_rows": null,
            "grid_column": null,
            "grid_gap": null,
            "grid_row": null,
            "grid_template_areas": null,
            "grid_template_columns": null,
            "grid_template_rows": null,
            "height": null,
            "justify_content": null,
            "justify_items": null,
            "left": null,
            "margin": null,
            "max_height": null,
            "max_width": null,
            "min_height": null,
            "min_width": null,
            "object_fit": null,
            "object_position": null,
            "order": null,
            "overflow": null,
            "overflow_x": null,
            "overflow_y": null,
            "padding": null,
            "right": null,
            "top": null,
            "visibility": null,
            "width": null
          }
        },
        "0b68cb2562cf46ee8f43a9d72e5f9542": {
          "model_module": "@jupyter-widgets/base",
          "model_name": "LayoutModel",
          "model_module_version": "1.2.0",
          "state": {
            "_model_module": "@jupyter-widgets/base",
            "_model_module_version": "1.2.0",
            "_model_name": "LayoutModel",
            "_view_count": null,
            "_view_module": "@jupyter-widgets/base",
            "_view_module_version": "1.2.0",
            "_view_name": "LayoutView",
            "align_content": null,
            "align_items": null,
            "align_self": null,
            "border": null,
            "bottom": null,
            "display": null,
            "flex": null,
            "flex_flow": null,
            "grid_area": null,
            "grid_auto_columns": null,
            "grid_auto_flow": null,
            "grid_auto_rows": null,
            "grid_column": null,
            "grid_gap": null,
            "grid_row": null,
            "grid_template_areas": null,
            "grid_template_columns": null,
            "grid_template_rows": null,
            "height": null,
            "justify_content": null,
            "justify_items": null,
            "left": null,
            "margin": null,
            "max_height": null,
            "max_width": null,
            "min_height": null,
            "min_width": null,
            "object_fit": null,
            "object_position": null,
            "order": null,
            "overflow": null,
            "overflow_x": null,
            "overflow_y": null,
            "padding": null,
            "right": null,
            "top": null,
            "visibility": null,
            "width": null
          }
        },
        "33c397044865462cbb314ef820ffb2a3": {
          "model_module": "@jupyter-widgets/controls",
          "model_name": "DescriptionStyleModel",
          "model_module_version": "1.5.0",
          "state": {
            "_model_module": "@jupyter-widgets/controls",
            "_model_module_version": "1.5.0",
            "_model_name": "DescriptionStyleModel",
            "_view_count": null,
            "_view_module": "@jupyter-widgets/base",
            "_view_module_version": "1.2.0",
            "_view_name": "StyleView",
            "description_width": ""
          }
        },
        "2ccf988897e44a16b647b96f528b891d": {
          "model_module": "@jupyter-widgets/base",
          "model_name": "LayoutModel",
          "model_module_version": "1.2.0",
          "state": {
            "_model_module": "@jupyter-widgets/base",
            "_model_module_version": "1.2.0",
            "_model_name": "LayoutModel",
            "_view_count": null,
            "_view_module": "@jupyter-widgets/base",
            "_view_module_version": "1.2.0",
            "_view_name": "LayoutView",
            "align_content": null,
            "align_items": null,
            "align_self": null,
            "border": null,
            "bottom": null,
            "display": null,
            "flex": null,
            "flex_flow": null,
            "grid_area": null,
            "grid_auto_columns": null,
            "grid_auto_flow": null,
            "grid_auto_rows": null,
            "grid_column": null,
            "grid_gap": null,
            "grid_row": null,
            "grid_template_areas": null,
            "grid_template_columns": null,
            "grid_template_rows": null,
            "height": null,
            "justify_content": null,
            "justify_items": null,
            "left": null,
            "margin": null,
            "max_height": null,
            "max_width": null,
            "min_height": null,
            "min_width": null,
            "object_fit": null,
            "object_position": null,
            "order": null,
            "overflow": null,
            "overflow_x": null,
            "overflow_y": null,
            "padding": null,
            "right": null,
            "top": null,
            "visibility": null,
            "width": null
          }
        },
        "53655c167ec84ce9a4b5ec0cb3744400": {
          "model_module": "@jupyter-widgets/controls",
          "model_name": "ProgressStyleModel",
          "model_module_version": "1.5.0",
          "state": {
            "_model_module": "@jupyter-widgets/controls",
            "_model_module_version": "1.5.0",
            "_model_name": "ProgressStyleModel",
            "_view_count": null,
            "_view_module": "@jupyter-widgets/base",
            "_view_module_version": "1.2.0",
            "_view_name": "StyleView",
            "bar_color": null,
            "description_width": ""
          }
        },
        "fdb7a8dba2984874a261f5e877171b33": {
          "model_module": "@jupyter-widgets/base",
          "model_name": "LayoutModel",
          "model_module_version": "1.2.0",
          "state": {
            "_model_module": "@jupyter-widgets/base",
            "_model_module_version": "1.2.0",
            "_model_name": "LayoutModel",
            "_view_count": null,
            "_view_module": "@jupyter-widgets/base",
            "_view_module_version": "1.2.0",
            "_view_name": "LayoutView",
            "align_content": null,
            "align_items": null,
            "align_self": null,
            "border": null,
            "bottom": null,
            "display": null,
            "flex": null,
            "flex_flow": null,
            "grid_area": null,
            "grid_auto_columns": null,
            "grid_auto_flow": null,
            "grid_auto_rows": null,
            "grid_column": null,
            "grid_gap": null,
            "grid_row": null,
            "grid_template_areas": null,
            "grid_template_columns": null,
            "grid_template_rows": null,
            "height": null,
            "justify_content": null,
            "justify_items": null,
            "left": null,
            "margin": null,
            "max_height": null,
            "max_width": null,
            "min_height": null,
            "min_width": null,
            "object_fit": null,
            "object_position": null,
            "order": null,
            "overflow": null,
            "overflow_x": null,
            "overflow_y": null,
            "padding": null,
            "right": null,
            "top": null,
            "visibility": null,
            "width": null
          }
        },
        "f6af65b064e045caa8d9bc4a7c6859d7": {
          "model_module": "@jupyter-widgets/controls",
          "model_name": "DescriptionStyleModel",
          "model_module_version": "1.5.0",
          "state": {
            "_model_module": "@jupyter-widgets/controls",
            "_model_module_version": "1.5.0",
            "_model_name": "DescriptionStyleModel",
            "_view_count": null,
            "_view_module": "@jupyter-widgets/base",
            "_view_module_version": "1.2.0",
            "_view_name": "StyleView",
            "description_width": ""
          }
        }
      }
    }
  },
  "nbformat_minor": 0,
  "nbformat": 4,
  "cells": [
    {
      "cell_type": "code",
      "source": [
        "\n",
        "import numpy as np # linear algebra\n",
        "import pandas as pd # data processing, CSV file I/O (e.g. pd.read_csv)"
      ],
      "metadata": {
        "_uuid": "8f2839f25d086af736a60e9eeb907d3b93b6e0e5",
        "_cell_guid": "b1076dfc-b9ad-4769-8c92-a6c4dae69d19",
        "execution": {
          "iopub.status.busy": "2022-11-05T17:22:51.273896Z",
          "iopub.execute_input": "2022-11-05T17:22:51.274722Z",
          "iopub.status.idle": "2022-11-05T17:22:51.311258Z",
          "shell.execute_reply.started": "2022-11-05T17:22:51.274625Z",
          "shell.execute_reply": "2022-11-05T17:22:51.309232Z"
        },
        "trusted": true,
        "id": "8fGZtijp4dEX"
      },
      "execution_count": 2,
      "outputs": []
    },
    {
      "cell_type": "code",
      "source": [
        "pip install jiwer -q"
      ],
      "metadata": {
        "execution": {
          "iopub.status.busy": "2022-11-05T17:26:00.155741Z",
          "iopub.execute_input": "2022-11-05T17:26:00.156210Z"
        },
        "trusted": true,
        "id": "GiF-KGpN4dEc"
      },
      "execution_count": 3,
      "outputs": []
    },
    {
      "cell_type": "code",
      "source": [
        "from tensorflow.keras import backend as K\n",
        "from tensorflow.keras.layers import LSTM, TimeDistributed, Dense, Embedding, Input, Concatenate\n",
        "from tensorflow.keras.callbacks import EarlyStopping, ReduceLROnPlateau, ModelCheckpoint\n",
        "from tensorflow.keras.models import load_model, Model\n",
        "import seaborn as sns\n",
        "import tensorflow as tf\n",
        "import matplotlib.pyplot as plt\n",
        "import warnings, re\n",
        "warnings.filterwarnings('ignore')\n",
        "from sklearn.model_selection import train_test_split\n",
        "from tensorflow.keras.preprocessing.sequence import pad_sequences\n",
        "from tensorflow.keras.preprocessing.text import Tokenizer\n",
        "from tqdm.notebook import tqdm\n",
        "from wordcloud import WordCloud\n",
        "tqdm.pandas()\n",
        "logger = tf.get_logger()\n",
        "from tensorflow.keras.utils import plot_model\n",
        "from nltk.translate.bleu_score import sentence_bleu\n",
        "from jiwer import wer, mer, cer, wip, wil"
      ],
      "metadata": {
        "execution": {
          "iopub.status.busy": "2022-11-05T17:25:22.146750Z",
          "iopub.execute_input": "2022-11-05T17:25:22.147319Z",
          "iopub.status.idle": "2022-11-05T17:25:31.000728Z",
          "shell.execute_reply.started": "2022-11-05T17:25:22.147258Z",
          "shell.execute_reply": "2022-11-05T17:25:30.994991Z"
        },
        "trusted": true,
        "id": "QZ6OJTSz4dEd"
      },
      "execution_count": 4,
      "outputs": []
    },
    {
      "cell_type": "code",
      "source": [
        "plt.rcParams['figure.figsize'] = (12,8)"
      ],
      "metadata": {
        "execution": {
          "iopub.status.busy": "2022-11-05T17:25:31.001831Z",
          "iopub.status.idle": "2022-11-05T17:25:31.002798Z",
          "shell.execute_reply.started": "2022-11-05T17:25:31.002494Z",
          "shell.execute_reply": "2022-11-05T17:25:31.002525Z"
        },
        "trusted": true,
        "id": "ynlsb_314dEe"
      },
      "execution_count": 5,
      "outputs": []
    },
    {
      "cell_type": "code",
      "source": [
        "%pip install opendatasets -q --upgrade"
      ],
      "metadata": {
        "id": "UcjH6XvC4-sH"
      },
      "execution_count": 6,
      "outputs": []
    },
    {
      "cell_type": "code",
      "source": [
        "import opendatasets as od\n",
        "od.download('https://www.kaggle.com/datasets/sunnysai12345/news-summary')"
      ],
      "metadata": {
        "colab": {
          "base_uri": "https://localhost:8080/"
        },
        "id": "jHefVgrf43vp",
        "outputId": "f1f99188-8ace-4ea7-a597-7299346ef22b"
      },
      "execution_count": 7,
      "outputs": [
        {
          "output_type": "stream",
          "name": "stdout",
          "text": [
            "Skipping, found downloaded files in \"./news-summary\" (use force=True to force download)\n"
          ]
        }
      ]
    },
    {
      "cell_type": "code",
      "source": [
        "df = pd.read_csv('/content/news-summary/news_summary_more.csv')\n",
        "df = df.sample(n=8000).reset_index(drop=True)\n",
        "df.head()"
      ],
      "metadata": {
        "execution": {
          "iopub.status.busy": "2022-11-05T17:25:31.004608Z",
          "iopub.status.idle": "2022-11-05T17:25:31.006292Z",
          "shell.execute_reply.started": "2022-11-05T17:25:31.005953Z",
          "shell.execute_reply": "2022-11-05T17:25:31.005986Z"
        },
        "trusted": true,
        "colab": {
          "base_uri": "https://localhost:8080/",
          "height": 204
        },
        "id": "2lDg41Wv4dEe",
        "outputId": "6140e287-7894-4de2-ad6c-dd22c19c5a58"
      },
      "execution_count": 8,
      "outputs": [
        {
          "output_type": "execute_result",
          "data": {
            "text/plain": [
              "                                           headlines  \\\n",
              "0  Initially, I couldn't tolerate my own voice: R...   \n",
              "1  UPSC aspirant kidnaps 5yr-old to recover money...   \n",
              "2  India beat South Africa to win third consecuti...   \n",
              "3  Pakistan's Shoaib Malik hit on head by fielder...   \n",
              "4  Priyanka to wear Ralph Lauren at Christian wed...   \n",
              "\n",
              "                                                text  \n",
              "0  Pakistani singer Rahat Fateh Ali Khan in an in...  \n",
              "1  Delhi Police arrested a UPSC aspirant for alle...  \n",
              "2  India defeated South Africa in the third T20I ...  \n",
              "3  Pakistani all-rounder Shoaib Malik did not tak...  \n",
              "4  Priyanka Chopra will wear a Ralph Lauren brida...  "
            ],
            "text/html": [
              "\n",
              "  <div id=\"df-95500056-fc0c-4c35-922a-7bdb0eed380d\">\n",
              "    <div class=\"colab-df-container\">\n",
              "      <div>\n",
              "<style scoped>\n",
              "    .dataframe tbody tr th:only-of-type {\n",
              "        vertical-align: middle;\n",
              "    }\n",
              "\n",
              "    .dataframe tbody tr th {\n",
              "        vertical-align: top;\n",
              "    }\n",
              "\n",
              "    .dataframe thead th {\n",
              "        text-align: right;\n",
              "    }\n",
              "</style>\n",
              "<table border=\"1\" class=\"dataframe\">\n",
              "  <thead>\n",
              "    <tr style=\"text-align: right;\">\n",
              "      <th></th>\n",
              "      <th>headlines</th>\n",
              "      <th>text</th>\n",
              "    </tr>\n",
              "  </thead>\n",
              "  <tbody>\n",
              "    <tr>\n",
              "      <th>0</th>\n",
              "      <td>Initially, I couldn't tolerate my own voice: R...</td>\n",
              "      <td>Pakistani singer Rahat Fateh Ali Khan in an in...</td>\n",
              "    </tr>\n",
              "    <tr>\n",
              "      <th>1</th>\n",
              "      <td>UPSC aspirant kidnaps 5yr-old to recover money...</td>\n",
              "      <td>Delhi Police arrested a UPSC aspirant for alle...</td>\n",
              "    </tr>\n",
              "    <tr>\n",
              "      <th>2</th>\n",
              "      <td>India beat South Africa to win third consecuti...</td>\n",
              "      <td>India defeated South Africa in the third T20I ...</td>\n",
              "    </tr>\n",
              "    <tr>\n",
              "      <th>3</th>\n",
              "      <td>Pakistan's Shoaib Malik hit on head by fielder...</td>\n",
              "      <td>Pakistani all-rounder Shoaib Malik did not tak...</td>\n",
              "    </tr>\n",
              "    <tr>\n",
              "      <th>4</th>\n",
              "      <td>Priyanka to wear Ralph Lauren at Christian wed...</td>\n",
              "      <td>Priyanka Chopra will wear a Ralph Lauren brida...</td>\n",
              "    </tr>\n",
              "  </tbody>\n",
              "</table>\n",
              "</div>\n",
              "      <button class=\"colab-df-convert\" onclick=\"convertToInteractive('df-95500056-fc0c-4c35-922a-7bdb0eed380d')\"\n",
              "              title=\"Convert this dataframe to an interactive table.\"\n",
              "              style=\"display:none;\">\n",
              "        \n",
              "  <svg xmlns=\"http://www.w3.org/2000/svg\" height=\"24px\"viewBox=\"0 0 24 24\"\n",
              "       width=\"24px\">\n",
              "    <path d=\"M0 0h24v24H0V0z\" fill=\"none\"/>\n",
              "    <path d=\"M18.56 5.44l.94 2.06.94-2.06 2.06-.94-2.06-.94-.94-2.06-.94 2.06-2.06.94zm-11 1L8.5 8.5l.94-2.06 2.06-.94-2.06-.94L8.5 2.5l-.94 2.06-2.06.94zm10 10l.94 2.06.94-2.06 2.06-.94-2.06-.94-.94-2.06-.94 2.06-2.06.94z\"/><path d=\"M17.41 7.96l-1.37-1.37c-.4-.4-.92-.59-1.43-.59-.52 0-1.04.2-1.43.59L10.3 9.45l-7.72 7.72c-.78.78-.78 2.05 0 2.83L4 21.41c.39.39.9.59 1.41.59.51 0 1.02-.2 1.41-.59l7.78-7.78 2.81-2.81c.8-.78.8-2.07 0-2.86zM5.41 20L4 18.59l7.72-7.72 1.47 1.35L5.41 20z\"/>\n",
              "  </svg>\n",
              "      </button>\n",
              "      \n",
              "  <style>\n",
              "    .colab-df-container {\n",
              "      display:flex;\n",
              "      flex-wrap:wrap;\n",
              "      gap: 12px;\n",
              "    }\n",
              "\n",
              "    .colab-df-convert {\n",
              "      background-color: #E8F0FE;\n",
              "      border: none;\n",
              "      border-radius: 50%;\n",
              "      cursor: pointer;\n",
              "      display: none;\n",
              "      fill: #1967D2;\n",
              "      height: 32px;\n",
              "      padding: 0 0 0 0;\n",
              "      width: 32px;\n",
              "    }\n",
              "\n",
              "    .colab-df-convert:hover {\n",
              "      background-color: #E2EBFA;\n",
              "      box-shadow: 0px 1px 2px rgba(60, 64, 67, 0.3), 0px 1px 3px 1px rgba(60, 64, 67, 0.15);\n",
              "      fill: #174EA6;\n",
              "    }\n",
              "\n",
              "    [theme=dark] .colab-df-convert {\n",
              "      background-color: #3B4455;\n",
              "      fill: #D2E3FC;\n",
              "    }\n",
              "\n",
              "    [theme=dark] .colab-df-convert:hover {\n",
              "      background-color: #434B5C;\n",
              "      box-shadow: 0px 1px 3px 1px rgba(0, 0, 0, 0.15);\n",
              "      filter: drop-shadow(0px 1px 2px rgba(0, 0, 0, 0.3));\n",
              "      fill: #FFFFFF;\n",
              "    }\n",
              "  </style>\n",
              "\n",
              "      <script>\n",
              "        const buttonEl =\n",
              "          document.querySelector('#df-95500056-fc0c-4c35-922a-7bdb0eed380d button.colab-df-convert');\n",
              "        buttonEl.style.display =\n",
              "          google.colab.kernel.accessAllowed ? 'block' : 'none';\n",
              "\n",
              "        async function convertToInteractive(key) {\n",
              "          const element = document.querySelector('#df-95500056-fc0c-4c35-922a-7bdb0eed380d');\n",
              "          const dataTable =\n",
              "            await google.colab.kernel.invokeFunction('convertToInteractive',\n",
              "                                                     [key], {});\n",
              "          if (!dataTable) return;\n",
              "\n",
              "          const docLinkHtml = 'Like what you see? Visit the ' +\n",
              "            '<a target=\"_blank\" href=https://colab.research.google.com/notebooks/data_table.ipynb>data table notebook</a>'\n",
              "            + ' to learn more about interactive tables.';\n",
              "          element.innerHTML = '';\n",
              "          dataTable['output_type'] = 'display_data';\n",
              "          await google.colab.output.renderOutput(dataTable, element);\n",
              "          const docLink = document.createElement('div');\n",
              "          docLink.innerHTML = docLinkHtml;\n",
              "          element.appendChild(docLink);\n",
              "        }\n",
              "      </script>\n",
              "    </div>\n",
              "  </div>\n",
              "  "
            ]
          },
          "metadata": {},
          "execution_count": 8
        }
      ]
    },
    {
      "cell_type": "code",
      "source": [
        "df.shape"
      ],
      "metadata": {
        "execution": {
          "iopub.status.busy": "2022-11-05T17:25:31.008041Z",
          "iopub.status.idle": "2022-11-05T17:25:31.008636Z",
          "shell.execute_reply.started": "2022-11-05T17:25:31.008344Z",
          "shell.execute_reply": "2022-11-05T17:25:31.008373Z"
        },
        "trusted": true,
        "colab": {
          "base_uri": "https://localhost:8080/"
        },
        "id": "Y2XwzEXo4dEe",
        "outputId": "ec3f1cc4-e281-424e-c75d-a5b211365be5"
      },
      "execution_count": 9,
      "outputs": [
        {
          "output_type": "execute_result",
          "data": {
            "text/plain": [
              "(8000, 2)"
            ]
          },
          "metadata": {},
          "execution_count": 9
        }
      ]
    },
    {
      "cell_type": "code",
      "source": [
        "df.isna().sum()"
      ],
      "metadata": {
        "execution": {
          "iopub.status.busy": "2022-11-05T17:25:31.010615Z",
          "iopub.status.idle": "2022-11-05T17:25:31.011219Z",
          "shell.execute_reply.started": "2022-11-05T17:25:31.010892Z",
          "shell.execute_reply": "2022-11-05T17:25:31.010919Z"
        },
        "trusted": true,
        "colab": {
          "base_uri": "https://localhost:8080/"
        },
        "id": "weiAHs0H4dEf",
        "outputId": "6b4b90e2-e8e8-47c3-8b82-9ea302466100"
      },
      "execution_count": 10,
      "outputs": [
        {
          "output_type": "execute_result",
          "data": {
            "text/plain": [
              "headlines    0\n",
              "text         0\n",
              "dtype: int64"
            ]
          },
          "metadata": {},
          "execution_count": 10
        }
      ]
    },
    {
      "cell_type": "code",
      "source": [
        "df = df.dropna()\n",
        "df.shape"
      ],
      "metadata": {
        "execution": {
          "iopub.status.busy": "2022-11-05T17:25:31.013413Z",
          "iopub.status.idle": "2022-11-05T17:25:31.013989Z",
          "shell.execute_reply.started": "2022-11-05T17:25:31.013707Z",
          "shell.execute_reply": "2022-11-05T17:25:31.013736Z"
        },
        "trusted": true,
        "colab": {
          "base_uri": "https://localhost:8080/"
        },
        "id": "jIABoouW4dEf",
        "outputId": "95db7c6e-37b2-4b7b-be49-b4338c6d05e1"
      },
      "execution_count": 11,
      "outputs": [
        {
          "output_type": "execute_result",
          "data": {
            "text/plain": [
              "(8000, 2)"
            ]
          },
          "metadata": {},
          "execution_count": 11
        }
      ]
    },
    {
      "cell_type": "code",
      "source": [
        "df.duplicated().sum()"
      ],
      "metadata": {
        "execution": {
          "iopub.status.busy": "2022-11-05T17:25:31.016080Z",
          "iopub.status.idle": "2022-11-05T17:25:31.016661Z",
          "shell.execute_reply.started": "2022-11-05T17:25:31.016359Z",
          "shell.execute_reply": "2022-11-05T17:25:31.016386Z"
        },
        "trusted": true,
        "colab": {
          "base_uri": "https://localhost:8080/"
        },
        "id": "GsQFY3Tn4dEg",
        "outputId": "c40e2d27-4547-45fc-a64b-bf0217bb449c"
      },
      "execution_count": 12,
      "outputs": [
        {
          "output_type": "execute_result",
          "data": {
            "text/plain": [
              "1"
            ]
          },
          "metadata": {},
          "execution_count": 12
        }
      ]
    },
    {
      "cell_type": "code",
      "source": [
        "df = df.drop_duplicates()\n",
        "df.shape"
      ],
      "metadata": {
        "execution": {
          "iopub.status.busy": "2022-11-05T17:25:31.019068Z",
          "iopub.status.idle": "2022-11-05T17:25:31.020092Z",
          "shell.execute_reply.started": "2022-11-05T17:25:31.019763Z",
          "shell.execute_reply": "2022-11-05T17:25:31.019791Z"
        },
        "trusted": true,
        "colab": {
          "base_uri": "https://localhost:8080/"
        },
        "id": "NG2oyN9s4dEg",
        "outputId": "7a42ef79-4edf-4dee-fafe-660277530fd3"
      },
      "execution_count": 13,
      "outputs": [
        {
          "output_type": "execute_result",
          "data": {
            "text/plain": [
              "(7999, 2)"
            ]
          },
          "metadata": {},
          "execution_count": 13
        }
      ]
    },
    {
      "cell_type": "code",
      "source": [
        "df['text_len'] = df.text.apply(len)\n",
        "df['headlines_len'] = df.headlines.apply(len)"
      ],
      "metadata": {
        "execution": {
          "iopub.status.busy": "2022-11-05T17:25:31.021703Z",
          "iopub.status.idle": "2022-11-05T17:25:31.023992Z",
          "shell.execute_reply.started": "2022-11-05T17:25:31.023681Z",
          "shell.execute_reply": "2022-11-05T17:25:31.023711Z"
        },
        "trusted": true,
        "id": "gZT8gXKr4dEh"
      },
      "execution_count": 14,
      "outputs": []
    },
    {
      "cell_type": "code",
      "source": [
        "fig, axes = plt.subplots(nrows=1,ncols=2,figsize=(15,5))\n",
        "sns.distplot(df.text_len,ax=axes[0],color='blue')\n",
        "sns.distplot(df.headlines_len,ax=axes[1],color='red')"
      ],
      "metadata": {
        "execution": {
          "iopub.status.busy": "2022-11-05T17:25:31.025369Z",
          "iopub.status.idle": "2022-11-05T17:25:31.026428Z",
          "shell.execute_reply.started": "2022-11-05T17:25:31.026121Z",
          "shell.execute_reply": "2022-11-05T17:25:31.026151Z"
        },
        "trusted": true,
        "colab": {
          "base_uri": "https://localhost:8080/",
          "height": 352
        },
        "id": "UXPc3Kj54dEh",
        "outputId": "c626a3e0-ea7d-42ce-d681-b670858f500f"
      },
      "execution_count": 15,
      "outputs": [
        {
          "output_type": "execute_result",
          "data": {
            "text/plain": [
              "<matplotlib.axes._subplots.AxesSubplot at 0x7f913e1ed3d0>"
            ]
          },
          "metadata": {},
          "execution_count": 15
        },
        {
          "output_type": "display_data",
          "data": {
            "text/plain": [
              "<Figure size 1080x360 with 2 Axes>"
            ],
            "image/png": "[encoded data removed]"
          },
          "metadata": {
            "needs_background": "light"
          }
        }
      ]
    },
    {
      "cell_type": "code",
      "source": [
        "df.describe()"
      ],
      "metadata": {
        "execution": {
          "iopub.status.busy": "2022-11-05T17:25:31.028009Z",
          "iopub.status.idle": "2022-11-05T17:25:31.029178Z",
          "shell.execute_reply.started": "2022-11-05T17:25:31.028841Z",
          "shell.execute_reply": "2022-11-05T17:25:31.028873Z"
        },
        "trusted": true,
        "colab": {
          "base_uri": "https://localhost:8080/",
          "height": 297
        },
        "id": "bJKdABKx4dEi",
        "outputId": "0dd84e19-1b8a-4ab1-86d1-fe531076e87c"
      },
      "execution_count": 16,
      "outputs": [
        {
          "output_type": "execute_result",
          "data": {
            "text/plain": [
              "          text_len  headlines_len\n",
              "count  7999.000000    7999.000000\n",
              "mean    356.626453      57.374422\n",
              "std      24.468299       4.690997\n",
              "min     280.000000      31.000000\n",
              "25%     340.000000      56.000000\n",
              "50%     357.000000      58.000000\n",
              "75%     375.000000      60.000000\n",
              "max     416.000000      75.000000"
            ],
            "text/html": [
              "\n",
              "  <div id=\"df-bef60721-7cfe-4689-a16f-326aa88ea734\">\n",
              "    <div class=\"colab-df-container\">\n",
              "      <div>\n",
              "<style scoped>\n",
              "    .dataframe tbody tr th:only-of-type {\n",
              "        vertical-align: middle;\n",
              "    }\n",
              "\n",
              "    .dataframe tbody tr th {\n",
              "        vertical-align: top;\n",
              "    }\n",
              "\n",
              "    .dataframe thead th {\n",
              "        text-align: right;\n",
              "    }\n",
              "</style>\n",
              "<table border=\"1\" class=\"dataframe\">\n",
              "  <thead>\n",
              "    <tr style=\"text-align: right;\">\n",
              "      <th></th>\n",
              "      <th>text_len</th>\n",
              "      <th>headlines_len</th>\n",
              "    </tr>\n",
              "  </thead>\n",
              "  <tbody>\n",
              "    <tr>\n",
              "      <th>count</th>\n",
              "      <td>7999.000000</td>\n",
              "      <td>7999.000000</td>\n",
              "    </tr>\n",
              "    <tr>\n",
              "      <th>mean</th>\n",
              "      <td>356.626453</td>\n",
              "      <td>57.374422</td>\n",
              "    </tr>\n",
              "    <tr>\n",
              "      <th>std</th>\n",
              "      <td>24.468299</td>\n",
              "      <td>4.690997</td>\n",
              "    </tr>\n",
              "    <tr>\n",
              "      <th>min</th>\n",
              "      <td>280.000000</td>\n",
              "      <td>31.000000</td>\n",
              "    </tr>\n",
              "    <tr>\n",
              "      <th>25%</th>\n",
              "      <td>340.000000</td>\n",
              "      <td>56.000000</td>\n",
              "    </tr>\n",
              "    <tr>\n",
              "      <th>50%</th>\n",
              "      <td>357.000000</td>\n",
              "      <td>58.000000</td>\n",
              "    </tr>\n",
              "    <tr>\n",
              "      <th>75%</th>\n",
              "      <td>375.000000</td>\n",
              "      <td>60.000000</td>\n",
              "    </tr>\n",
              "    <tr>\n",
              "      <th>max</th>\n",
              "      <td>416.000000</td>\n",
              "      <td>75.000000</td>\n",
              "    </tr>\n",
              "  </tbody>\n",
              "</table>\n",
              "</div>\n",
              "      <button class=\"colab-df-convert\" onclick=\"convertToInteractive('df-bef60721-7cfe-4689-a16f-326aa88ea734')\"\n",
              "              title=\"Convert this dataframe to an interactive table.\"\n",
              "              style=\"display:none;\">\n",
              "        \n",
              "  <svg xmlns=\"http://www.w3.org/2000/svg\" height=\"24px\"viewBox=\"0 0 24 24\"\n",
              "       width=\"24px\">\n",
              "    <path d=\"M0 0h24v24H0V0z\" fill=\"none\"/>\n",
              "    <path d=\"M18.56 5.44l.94 2.06.94-2.06 2.06-.94-2.06-.94-.94-2.06-.94 2.06-2.06.94zm-11 1L8.5 8.5l.94-2.06 2.06-.94-2.06-.94L8.5 2.5l-.94 2.06-2.06.94zm10 10l.94 2.06.94-2.06 2.06-.94-2.06-.94-.94-2.06-.94 2.06-2.06.94z\"/><path d=\"M17.41 7.96l-1.37-1.37c-.4-.4-.92-.59-1.43-.59-.52 0-1.04.2-1.43.59L10.3 9.45l-7.72 7.72c-.78.78-.78 2.05 0 2.83L4 21.41c.39.39.9.59 1.41.59.51 0 1.02-.2 1.41-.59l7.78-7.78 2.81-2.81c.8-.78.8-2.07 0-2.86zM5.41 20L4 18.59l7.72-7.72 1.47 1.35L5.41 20z\"/>\n",
              "  </svg>\n",
              "      </button>\n",
              "      \n",
              "  <style>\n",
              "    .colab-df-container {\n",
              "      display:flex;\n",
              "      flex-wrap:wrap;\n",
              "      gap: 12px;\n",
              "    }\n",
              "\n",
              "    .colab-df-convert {\n",
              "      background-color: #E8F0FE;\n",
              "      border: none;\n",
              "      border-radius: 50%;\n",
              "      cursor: pointer;\n",
              "      display: none;\n",
              "      fill: #1967D2;\n",
              "      height: 32px;\n",
              "      padding: 0 0 0 0;\n",
              "      width: 32px;\n",
              "    }\n",
              "\n",
              "    .colab-df-convert:hover {\n",
              "      background-color: #E2EBFA;\n",
              "      box-shadow: 0px 1px 2px rgba(60, 64, 67, 0.3), 0px 1px 3px 1px rgba(60, 64, 67, 0.15);\n",
              "      fill: #174EA6;\n",
              "    }\n",
              "\n",
              "    [theme=dark] .colab-df-convert {\n",
              "      background-color: #3B4455;\n",
              "      fill: #D2E3FC;\n",
              "    }\n",
              "\n",
              "    [theme=dark] .colab-df-convert:hover {\n",
              "      background-color: #434B5C;\n",
              "      box-shadow: 0px 1px 3px 1px rgba(0, 0, 0, 0.15);\n",
              "      filter: drop-shadow(0px 1px 2px rgba(0, 0, 0, 0.3));\n",
              "      fill: #FFFFFF;\n",
              "    }\n",
              "  </style>\n",
              "\n",
              "      <script>\n",
              "        const buttonEl =\n",
              "          document.querySelector('#df-bef60721-7cfe-4689-a16f-326aa88ea734 button.colab-df-convert');\n",
              "        buttonEl.style.display =\n",
              "          google.colab.kernel.accessAllowed ? 'block' : 'none';\n",
              "\n",
              "        async function convertToInteractive(key) {\n",
              "          const element = document.querySelector('#df-bef60721-7cfe-4689-a16f-326aa88ea734');\n",
              "          const dataTable =\n",
              "            await google.colab.kernel.invokeFunction('convertToInteractive',\n",
              "                                                     [key], {});\n",
              "          if (!dataTable) return;\n",
              "\n",
              "          const docLinkHtml = 'Like what you see? Visit the ' +\n",
              "            '<a target=\"_blank\" href=https://colab.research.google.com/notebooks/data_table.ipynb>data table notebook</a>'\n",
              "            + ' to learn more about interactive tables.';\n",
              "          element.innerHTML = '';\n",
              "          dataTable['output_type'] = 'display_data';\n",
              "          await google.colab.output.renderOutput(dataTable, element);\n",
              "          const docLink = document.createElement('div');\n",
              "          docLink.innerHTML = docLinkHtml;\n",
              "          element.appendChild(docLink);\n",
              "        }\n",
              "      </script>\n",
              "    </div>\n",
              "  </div>\n",
              "  "
            ]
          },
          "metadata": {},
          "execution_count": 16
        }
      ]
    },
    {
      "cell_type": "code",
      "source": [
        "max_text_len = 350\n",
        "max_headline_len = 50"
      ],
      "metadata": {
        "execution": {
          "iopub.status.busy": "2022-11-05T17:25:31.030928Z",
          "iopub.status.idle": "2022-11-05T17:25:31.031548Z",
          "shell.execute_reply.started": "2022-11-05T17:25:31.031249Z",
          "shell.execute_reply": "2022-11-05T17:25:31.031277Z"
        },
        "trusted": true,
        "id": "LzXeD7l04dEi"
      },
      "execution_count": 17,
      "outputs": []
    },
    {
      "cell_type": "code",
      "source": [
        "df.headlines = df.headlines.apply(lambda x: '<START> ' + x + ' <END>')"
      ],
      "metadata": {
        "execution": {
          "iopub.status.busy": "2022-11-05T17:25:31.033542Z",
          "iopub.status.idle": "2022-11-05T17:25:31.034117Z",
          "shell.execute_reply.started": "2022-11-05T17:25:31.033813Z",
          "shell.execute_reply": "2022-11-05T17:25:31.033840Z"
        },
        "trusted": true,
        "id": "SjwyFL-t4dEi"
      },
      "execution_count": 18,
      "outputs": []
    },
    {
      "cell_type": "code",
      "source": [
        "def clean_text(text):\n",
        "    text = text.lower().strip()\n",
        "    # Replace certain special characters with their string equivalents\n",
        "    text = text.replace('%', ' percent')\n",
        "    text = text.replace('$', ' dollar ')\n",
        "    text = text.replace('₹', ' rupee ')\n",
        "    text = text.replace('€', ' euro ')\n",
        "    text = text.replace('@', ' at ')\n",
        "    text = text.replace(',000,000,000 ', 'b ')\n",
        "    text = text.replace(',000,000 ', 'm ')\n",
        "    text = text.replace(',000 ', 'k ')\n",
        "    text = re.sub(r'([0-9]+)000000000', r'\\1b', text)\n",
        "    text = re.sub(r'([0-9]+)000000', r'\\1m', text)\n",
        "    text = re.sub(r'([0-9]+)000', r'\\1k', text)\n",
        "\n",
        "    contractions = { \n",
        "    \"ain't\": \"am not\",\n",
        "    \"aren't\": \"are not\",\n",
        "    \"can't\": \"can not\",\n",
        "    \"can't've\": \"can not have\",\n",
        "    \"'cause\": \"because\",\n",
        "    \"could've\": \"could have\",\n",
        "    \"couldn't\": \"could not\",\n",
        "    \"couldn't've\": \"could not have\",\n",
        "    \"didn't\": \"did not\",\n",
        "    \"doesn't\": \"does not\",\n",
        "    \"don't\": \"do not\",\n",
        "    \"hadn't\": \"had not\",\n",
        "    \"hadn't've\": \"had not have\",\n",
        "    \"hasn't\": \"has not\",\n",
        "    \"haven't\": \"have not\",\n",
        "    \"he'd\": \"he would\",\n",
        "    \"he'd've\": \"he would have\",\n",
        "    \"he'll\": \"he will\",\n",
        "    \"he'll've\": \"he will have\",\n",
        "    \"he's\": \"he is\",\n",
        "    \"how'd\": \"how did\",\n",
        "    \"how'd'y\": \"how do you\",\n",
        "    \"how'll\": \"how will\",\n",
        "    \"how's\": \"how is\",\n",
        "    \"i'd\": \"i would\",\n",
        "    \"i'd've\": \"i would have\",\n",
        "    \"i'll\": \"i will\",\n",
        "    \"i'll've\": \"i will have\",\n",
        "    \"i'm\": \"i am\",\n",
        "    \"i've\": \"i have\",\n",
        "    \"isn't\": \"is not\",\n",
        "    \"it'd\": \"it would\",\n",
        "    \"it'd've\": \"it would have\",\n",
        "    \"it'll\": \"it will\",\n",
        "    \"it'll've\": \"it will have\",\n",
        "    \"it's\": \"it is\",\n",
        "    \"let's\": \"let us\",\n",
        "    \"ma'am\": \"madam\",\n",
        "    \"mayn't\": \"may not\",\n",
        "    \"might've\": \"might have\",\n",
        "    \"mightn't\": \"might not\",\n",
        "    \"mightn't've\": \"might not have\",\n",
        "    \"must've\": \"must have\",\n",
        "    \"mustn't\": \"must not\",\n",
        "    \"mustn't've\": \"must not have\",\n",
        "    \"needn't\": \"need not\",\n",
        "    \"needn't've\": \"need not have\",\n",
        "    \"o'clock\": \"of the clock\",\n",
        "    \"oughtn't\": \"ought not\",\n",
        "    \"oughtn't've\": \"ought not have\",\n",
        "    \"shan't\": \"shall not\",\n",
        "    \"sha'n't\": \"shall not\",\n",
        "    \"shan't've\": \"shall not have\",\n",
        "    \"she'd\": \"she would\",\n",
        "    \"she'd've\": \"she would have\",\n",
        "    \"she'll\": \"she will\",\n",
        "    \"she'll've\": \"she will have\",\n",
        "    \"she's\": \"she is\",\n",
        "    \"should've\": \"should have\",\n",
        "    \"shouldn't\": \"should not\",\n",
        "    \"shouldn't've\": \"should not have\",\n",
        "    \"so've\": \"so have\",\n",
        "    \"so's\": \"so as\",\n",
        "    \"that'd\": \"that would\",\n",
        "    \"that'd've\": \"that would have\",\n",
        "    \"that's\": \"that is\",\n",
        "    \"there'd\": \"there would\",\n",
        "    \"there'd've\": \"there would have\",\n",
        "    \"there's\": \"there is\",\n",
        "    \"they'd\": \"they would\",\n",
        "    \"they'd've\": \"they would have\",\n",
        "    \"they'll\": \"they will\",\n",
        "    \"they'll've\": \"they will have\",\n",
        "    \"they're\": \"they are\",\n",
        "    \"they've\": \"they have\",\n",
        "    \"to've\": \"to have\",\n",
        "    \"wasn't\": \"was not\",\n",
        "    \"we'd\": \"we would\",\n",
        "    \"we'd've\": \"we would have\",\n",
        "    \"we'll\": \"we will\",\n",
        "    \"we'll've\": \"we will have\",\n",
        "    \"we're\": \"we are\",\n",
        "    \"we've\": \"we have\",\n",
        "    \"weren't\": \"were not\",\n",
        "    \"what'll\": \"what will\",\n",
        "    \"what'll've\": \"what will have\",\n",
        "    \"what're\": \"what are\",\n",
        "    \"what's\": \"what is\",\n",
        "    \"what've\": \"what have\",\n",
        "    \"when's\": \"when is\",\n",
        "    \"when've\": \"when have\",\n",
        "    \"where'd\": \"where did\",\n",
        "    \"where's\": \"where is\",\n",
        "    \"where've\": \"where have\",\n",
        "    \"who'll\": \"who will\",\n",
        "    \"who'll've\": \"who will have\",\n",
        "    \"who's\": \"who is\",\n",
        "    \"who've\": \"who have\",\n",
        "    \"why's\": \"why is\",\n",
        "    \"why've\": \"why have\",\n",
        "    \"will've\": \"will have\",\n",
        "    \"won't\": \"will not\",\n",
        "    \"won't've\": \"will not have\",\n",
        "    \"would've\": \"would have\",\n",
        "    \"wouldn't\": \"would not\",\n",
        "    \"wouldn't've\": \"would not have\",\n",
        "    \"y'all\": \"you all\",\n",
        "    \"y'all'd\": \"you all would\",\n",
        "    \"y'all'd've\": \"you all would have\",\n",
        "    \"y'all're\": \"you all are\",\n",
        "    \"y'all've\": \"you all have\",\n",
        "    \"you'd\": \"you would\",\n",
        "    \"you'd've\": \"you would have\",\n",
        "    \"you'll\": \"you will\",\n",
        "    \"you'll've\": \"you will have\",\n",
        "    \"you're\": \"you are\",\n",
        "    \"you've\": \"you have\"\n",
        "    }\n",
        "\n",
        "    text_decontracted = []\n",
        "\n",
        "    for word in text.split():\n",
        "        if word in contractions:\n",
        "            word = contractions[word]\n",
        "\n",
        "        text_decontracted.append(word)\n",
        "        \n",
        "    text = ' '.join(text_decontracted)\n",
        "    text = text.replace(\"'ve\", \" have\")\n",
        "    text = text.replace(\"n't\", \" not\")\n",
        "    text = text.replace(\"'re\", \" are\")\n",
        "    text = text.replace(\"'ll\", \" will\")        \n",
        "    text = re.sub(r\"i'm\", \"i am\", text)\n",
        "    text = re.sub(r\"he's\", \"he is\", text)\n",
        "    text = re.sub(r\"she's\", \"she is\", text)\n",
        "    text = re.sub(r\"it's\", \"it is\", text)\n",
        "    text = re.sub(r\"that's\", \"that is\", text)\n",
        "    text = re.sub(r\"what's\", \"that is\", text)\n",
        "    text = re.sub(r\"where's\", \"where is\", text)\n",
        "    text = re.sub(r\"how's\", \"how is\", text)\n",
        "    text = re.sub(r\"\\'ll\", \" will\", text)\n",
        "    text = re.sub(r\"\\'ve\", \" have\", text)\n",
        "    text = re.sub(r\"\\'re\", \" are\", text)\n",
        "    text = re.sub(r\"\\'d\", \" would\", text)\n",
        "    text = re.sub(r\"\\'re\", \" are\", text)\n",
        "    text = re.sub(r\"won't\", \"will not\", text)\n",
        "    text = re.sub(r\"can't\", \"cannot\", text)\n",
        "    text = re.sub(r\"n't\", \" not\", text)\n",
        "    text = re.sub(r\"n'\", \"ng\", text)\n",
        "    text = re.sub(r\"'bout\", \"about\", text)\n",
        "    text = re.sub(r\"'til\", \"until\", text)\n",
        "    text = re.sub(r\"[-()\\\"#/@;:<>{}`+=~|.!?,]\", \"\", text)\n",
        "    pattern = re.compile('\\W')\n",
        "    text = re.sub(pattern, ' ', text).strip()\n",
        "    return text"
      ],
      "metadata": {
        "execution": {
          "iopub.status.busy": "2022-11-05T17:25:31.036308Z",
          "iopub.status.idle": "2022-11-05T17:25:31.036875Z",
          "shell.execute_reply.started": "2022-11-05T17:25:31.036590Z",
          "shell.execute_reply": "2022-11-05T17:25:31.036616Z"
        },
        "trusted": true,
        "id": "QmPu4o_o4dE7"
      },
      "execution_count": 19,
      "outputs": []
    },
    {
      "cell_type": "code",
      "source": [
        "df.text = df.text.progress_apply(clean_text)\n",
        "df.headlines = df.headlines.progress_apply(clean_text)"
      ],
      "metadata": {
        "execution": {
          "iopub.status.busy": "2022-11-05T17:25:31.038360Z",
          "iopub.status.idle": "2022-11-05T17:25:31.039231Z",
          "shell.execute_reply.started": "2022-11-05T17:25:31.038901Z",
          "shell.execute_reply": "2022-11-05T17:25:31.038936Z"
        },
        "trusted": true,
        "colab": {
          "base_uri": "https://localhost:8080/",
          "height": 81,
          "referenced_widgets": [
            "baa3bbbb7f484869b5dd6fdc6b7a9356",
            "5062f59ccac340aebe7b21165743f2ee",
            "a204602a3e9844c094b72ef49dca3979",
            "ef10cdccfb3a46a4ab9b2450a52a9c9c",
            "39c7efbab27447d286412b62148b5382",
            "93180af5820f4bbc88642406bc1f8948",
            "24902946d8e34d4091c7ba44dfd64e0f",
            "4c429e6f5a244bbcb0cb8d23a2bdeab6",
            "ecc30c8bd1bf44a99c8178eea6b98526",
            "0cc974a32cd14929aa9d562cac854118",
            "fd9da3c7ebb541f9b494188667859114",
            "5db647c627954ce4bbf2a1f4e9350538",
            "43fb8361610547ba928d8a735b96ab4a",
            "1462178b22db48b09d67515dd12365b3",
            "24b346937b0649b3a55431029188d409",
            "5d0407841528465fa578b14ca3f2413f",
            "0b68cb2562cf46ee8f43a9d72e5f9542",
            "33c397044865462cbb314ef820ffb2a3",
            "2ccf988897e44a16b647b96f528b891d",
            "53655c167ec84ce9a4b5ec0cb3744400",
            "fdb7a8dba2984874a261f5e877171b33",
            "f6af65b064e045caa8d9bc4a7c6859d7"
          ]
        },
        "id": "-hCl2P_w4dE8",
        "outputId": "e719985b-4375-4e7c-f7f2-277f467f806d"
      },
      "execution_count": 20,
      "outputs": [
        {
          "output_type": "display_data",
          "data": {
            "text/plain": [
              "  0%|          | 0/7999 [00:00<?, ?it/s]"
            ],
            "application/vnd.jupyter.widget-view+json": {
              "version_major": 2,
              "version_minor": 0,
              "model_id": "baa3bbbb7f484869b5dd6fdc6b7a9356"
            }
          },
          "metadata": {}
        },
        {
          "output_type": "display_data",
          "data": {
            "text/plain": [
              "  0%|          | 0/7999 [00:00<?, ?it/s]"
            ],
            "application/vnd.jupyter.widget-view+json": {
              "version_major": 2,
              "version_minor": 0,
              "model_id": "5db647c627954ce4bbf2a1f4e9350538"
            }
          },
          "metadata": {}
        }
      ]
    },
    {
      "cell_type": "code",
      "source": [
        "df.head()"
      ],
      "metadata": {
        "execution": {
          "iopub.status.busy": "2022-11-05T17:25:31.041312Z",
          "iopub.status.idle": "2022-11-05T17:25:31.042430Z",
          "shell.execute_reply.started": "2022-11-05T17:25:31.042143Z",
          "shell.execute_reply": "2022-11-05T17:25:31.042174Z"
        },
        "trusted": true,
        "colab": {
          "base_uri": "https://localhost:8080/",
          "height": 204
        },
        "id": "fTIKVI9c4dE8",
        "outputId": "33d10dd3-89ef-4ae8-c9e2-cc0b8fe7c47f"
      },
      "execution_count": 21,
      "outputs": [
        {
          "output_type": "execute_result",
          "data": {
            "text/plain": [
              "                                           headlines  \\\n",
              "0  start initially i could not tolerate my own vo...   \n",
              "1  start upsc aspirant kidnaps 5yrold to recover ...   \n",
              "2  start india beat south africa to win third con...   \n",
              "3  start pakistangs shoaib malik hit on head by f...   \n",
              "4  start priyanka to wear ralph lauren at christi...   \n",
              "\n",
              "                                                text  text_len  headlines_len  \n",
              "0  pakistani singer rahat fateh ali khan in an in...       330             65  \n",
              "1  delhi police arrested a upsc aspirant for alle...       321             60  \n",
              "2  india defeated south africa in the third t20i ...       344             60  \n",
              "3  pakistani allrounder shoaib malik did not take...       321             54  \n",
              "4  priyanka chopra will wear a ralph lauren brida...       363             59  "
            ],
            "text/html": [
              "\n",
              "  <div id=\"df-6f49e341-35f4-492f-967e-bb02f2a851ac\">\n",
              "    <div class=\"colab-df-container\">\n",
              "      <div>\n",
              "<style scoped>\n",
              "    .dataframe tbody tr th:only-of-type {\n",
              "        vertical-align: middle;\n",
              "    }\n",
              "\n",
              "    .dataframe tbody tr th {\n",
              "        vertical-align: top;\n",
              "    }\n",
              "\n",
              "    .dataframe thead th {\n",
              "        text-align: right;\n",
              "    }\n",
              "</style>\n",
              "<table border=\"1\" class=\"dataframe\">\n",
              "  <thead>\n",
              "    <tr style=\"text-align: right;\">\n",
              "      <th></th>\n",
              "      <th>headlines</th>\n",
              "      <th>text</th>\n",
              "      <th>text_len</th>\n",
              "      <th>headlines_len</th>\n",
              "    </tr>\n",
              "  </thead>\n",
              "  <tbody>\n",
              "    <tr>\n",
              "      <th>0</th>\n",
              "      <td>start initially i could not tolerate my own vo...</td>\n",
              "      <td>pakistani singer rahat fateh ali khan in an in...</td>\n",
              "      <td>330</td>\n",
              "      <td>65</td>\n",
              "    </tr>\n",
              "    <tr>\n",
              "      <th>1</th>\n",
              "      <td>start upsc aspirant kidnaps 5yrold to recover ...</td>\n",
              "      <td>delhi police arrested a upsc aspirant for alle...</td>\n",
              "      <td>321</td>\n",
              "      <td>60</td>\n",
              "    </tr>\n",
              "    <tr>\n",
              "      <th>2</th>\n",
              "      <td>start india beat south africa to win third con...</td>\n",
              "      <td>india defeated south africa in the third t20i ...</td>\n",
              "      <td>344</td>\n",
              "      <td>60</td>\n",
              "    </tr>\n",
              "    <tr>\n",
              "      <th>3</th>\n",
              "      <td>start pakistangs shoaib malik hit on head by f...</td>\n",
              "      <td>pakistani allrounder shoaib malik did not take...</td>\n",
              "      <td>321</td>\n",
              "      <td>54</td>\n",
              "    </tr>\n",
              "    <tr>\n",
              "      <th>4</th>\n",
              "      <td>start priyanka to wear ralph lauren at christi...</td>\n",
              "      <td>priyanka chopra will wear a ralph lauren brida...</td>\n",
              "      <td>363</td>\n",
              "      <td>59</td>\n",
              "    </tr>\n",
              "  </tbody>\n",
              "</table>\n",
              "</div>\n",
              "      <button class=\"colab-df-convert\" onclick=\"convertToInteractive('df-6f49e341-35f4-492f-967e-bb02f2a851ac')\"\n",
              "              title=\"Convert this dataframe to an interactive table.\"\n",
              "              style=\"display:none;\">\n",
              "        \n",
              "  <svg xmlns=\"http://www.w3.org/2000/svg\" height=\"24px\"viewBox=\"0 0 24 24\"\n",
              "       width=\"24px\">\n",
              "    <path d=\"M0 0h24v24H0V0z\" fill=\"none\"/>\n",
              "    <path d=\"M18.56 5.44l.94 2.06.94-2.06 2.06-.94-2.06-.94-.94-2.06-.94 2.06-2.06.94zm-11 1L8.5 8.5l.94-2.06 2.06-.94-2.06-.94L8.5 2.5l-.94 2.06-2.06.94zm10 10l.94 2.06.94-2.06 2.06-.94-2.06-.94-.94-2.06-.94 2.06-2.06.94z\"/><path d=\"M17.41 7.96l-1.37-1.37c-.4-.4-.92-.59-1.43-.59-.52 0-1.04.2-1.43.59L10.3 9.45l-7.72 7.72c-.78.78-.78 2.05 0 2.83L4 21.41c.39.39.9.59 1.41.59.51 0 1.02-.2 1.41-.59l7.78-7.78 2.81-2.81c.8-.78.8-2.07 0-2.86zM5.41 20L4 18.59l7.72-7.72 1.47 1.35L5.41 20z\"/>\n",
              "  </svg>\n",
              "      </button>\n",
              "      \n",
              "  <style>\n",
              "    .colab-df-container {\n",
              "      display:flex;\n",
              "      flex-wrap:wrap;\n",
              "      gap: 12px;\n",
              "    }\n",
              "\n",
              "    .colab-df-convert {\n",
              "      background-color: #E8F0FE;\n",
              "      border: none;\n",
              "      border-radius: 50%;\n",
              "      cursor: pointer;\n",
              "      display: none;\n",
              "      fill: #1967D2;\n",
              "      height: 32px;\n",
              "      padding: 0 0 0 0;\n",
              "      width: 32px;\n",
              "    }\n",
              "\n",
              "    .colab-df-convert:hover {\n",
              "      background-color: #E2EBFA;\n",
              "      box-shadow: 0px 1px 2px rgba(60, 64, 67, 0.3), 0px 1px 3px 1px rgba(60, 64, 67, 0.15);\n",
              "      fill: #174EA6;\n",
              "    }\n",
              "\n",
              "    [theme=dark] .colab-df-convert {\n",
              "      background-color: #3B4455;\n",
              "      fill: #D2E3FC;\n",
              "    }\n",
              "\n",
              "    [theme=dark] .colab-df-convert:hover {\n",
              "      background-color: #434B5C;\n",
              "      box-shadow: 0px 1px 3px 1px rgba(0, 0, 0, 0.15);\n",
              "      filter: drop-shadow(0px 1px 2px rgba(0, 0, 0, 0.3));\n",
              "      fill: #FFFFFF;\n",
              "    }\n",
              "  </style>\n",
              "\n",
              "      <script>\n",
              "        const buttonEl =\n",
              "          document.querySelector('#df-6f49e341-35f4-492f-967e-bb02f2a851ac button.colab-df-convert');\n",
              "        buttonEl.style.display =\n",
              "          google.colab.kernel.accessAllowed ? 'block' : 'none';\n",
              "\n",
              "        async function convertToInteractive(key) {\n",
              "          const element = document.querySelector('#df-6f49e341-35f4-492f-967e-bb02f2a851ac');\n",
              "          const dataTable =\n",
              "            await google.colab.kernel.invokeFunction('convertToInteractive',\n",
              "                                                     [key], {});\n",
              "          if (!dataTable) return;\n",
              "\n",
              "          const docLinkHtml = 'Like what you see? Visit the ' +\n",
              "            '<a target=\"_blank\" href=https://colab.research.google.com/notebooks/data_table.ipynb>data table notebook</a>'\n",
              "            + ' to learn more about interactive tables.';\n",
              "          element.innerHTML = '';\n",
              "          dataTable['output_type'] = 'display_data';\n",
              "          await google.colab.output.renderOutput(dataTable, element);\n",
              "          const docLink = document.createElement('div');\n",
              "          docLink.innerHTML = docLinkHtml;\n",
              "          element.appendChild(docLink);\n",
              "        }\n",
              "      </script>\n",
              "    </div>\n",
              "  </div>\n",
              "  "
            ]
          },
          "metadata": {},
          "execution_count": 21
        }
      ]
    },
    {
      "cell_type": "code",
      "source": [
        "x_tokenizer = Tokenizer()\n",
        "x_tokenizer.fit_on_texts(df.text)"
      ],
      "metadata": {
        "execution": {
          "iopub.status.busy": "2022-11-05T17:25:31.044281Z",
          "iopub.status.idle": "2022-11-05T17:25:31.044842Z",
          "shell.execute_reply.started": "2022-11-05T17:25:31.044557Z",
          "shell.execute_reply": "2022-11-05T17:25:31.044585Z"
        },
        "trusted": true,
        "id": "01X4IgZd4dE9"
      },
      "execution_count": 22,
      "outputs": []
    },
    {
      "cell_type": "code",
      "source": [
        "text_vocab_length = len(x_tokenizer.index_word) + 1\n",
        "text_vocab_length"
      ],
      "metadata": {
        "execution": {
          "iopub.status.busy": "2022-11-05T17:25:31.047611Z",
          "iopub.status.idle": "2022-11-05T17:25:31.048490Z",
          "shell.execute_reply.started": "2022-11-05T17:25:31.048202Z",
          "shell.execute_reply": "2022-11-05T17:25:31.048230Z"
        },
        "trusted": true,
        "colab": {
          "base_uri": "https://localhost:8080/"
        },
        "id": "tUoAgqsl4dE9",
        "outputId": "d015a102-0ea1-413e-f5e1-c27b9b58ac24"
      },
      "execution_count": 23,
      "outputs": [
        {
          "output_type": "execute_result",
          "data": {
            "text/plain": [
              "32852"
            ]
          },
          "metadata": {},
          "execution_count": 23
        }
      ]
    },
    {
      "cell_type": "code",
      "source": [
        "text_sequences = x_tokenizer.texts_to_sequences(df.text)\n",
        "text_pad_sequences = pad_sequences(text_sequences,maxlen=max_text_len,padding='post')"
      ],
      "metadata": {
        "execution": {
          "iopub.status.busy": "2022-11-05T17:25:31.050102Z",
          "iopub.status.idle": "2022-11-05T17:25:31.050947Z",
          "shell.execute_reply.started": "2022-11-05T17:25:31.050664Z",
          "shell.execute_reply": "2022-11-05T17:25:31.050691Z"
        },
        "trusted": true,
        "id": "kLblOkgS4dE9"
      },
      "execution_count": 24,
      "outputs": []
    },
    {
      "cell_type": "code",
      "source": [
        "y_tokenizer = Tokenizer()\n",
        "y_tokenizer.fit_on_texts(df.headlines)"
      ],
      "metadata": {
        "execution": {
          "iopub.status.busy": "2022-11-05T17:25:31.052566Z",
          "iopub.status.idle": "2022-11-05T17:25:31.053439Z",
          "shell.execute_reply.started": "2022-11-05T17:25:31.053150Z",
          "shell.execute_reply": "2022-11-05T17:25:31.053178Z"
        },
        "trusted": true,
        "id": "a_W7QUgQ4dE9"
      },
      "execution_count": 25,
      "outputs": []
    },
    {
      "cell_type": "code",
      "source": [
        "headline_vocab_length = len(y_tokenizer.index_word) + 1\n",
        "headline_vocab_length"
      ],
      "metadata": {
        "execution": {
          "iopub.status.busy": "2022-11-05T17:25:31.054950Z",
          "iopub.status.idle": "2022-11-05T17:25:31.055832Z",
          "shell.execute_reply.started": "2022-11-05T17:25:31.055544Z",
          "shell.execute_reply": "2022-11-05T17:25:31.055572Z"
        },
        "trusted": true,
        "colab": {
          "base_uri": "https://localhost:8080/"
        },
        "id": "2JA85mIs4dE9",
        "outputId": "195c117b-cccc-469c-fd99-ac97d1982c84"
      },
      "execution_count": 26,
      "outputs": [
        {
          "output_type": "execute_result",
          "data": {
            "text/plain": [
              "13658"
            ]
          },
          "metadata": {},
          "execution_count": 26
        }
      ]
    },
    {
      "cell_type": "code",
      "source": [
        "headline_sequences = y_tokenizer.texts_to_sequences(df.headlines)\n",
        "headline_pad_sequences = pad_sequences(headline_sequences,maxlen=max_headline_len,padding='post')"
      ],
      "metadata": {
        "execution": {
          "iopub.status.busy": "2022-11-05T17:25:31.057421Z",
          "iopub.status.idle": "2022-11-05T17:25:31.058306Z",
          "shell.execute_reply.started": "2022-11-05T17:25:31.057984Z",
          "shell.execute_reply": "2022-11-05T17:25:31.058044Z"
        },
        "trusted": true,
        "id": "9yxXWBzP4dE9"
      },
      "execution_count": 27,
      "outputs": []
    },
    {
      "cell_type": "code",
      "source": [
        "class AttentionLayer(tf.keras.layers.Layer):\n",
        "    \"\"\"\n",
        "    This class implements Bahdanau attention (https://arxiv.org/pdf/1409.0473.pdf).\n",
        "    There are three sets of weights introduced W_a, U_a, and V_a\n",
        "     \"\"\"\n",
        "\n",
        "    def __init__(self, **kwargs):\n",
        "        super(AttentionLayer, self).__init__(**kwargs)\n",
        "\n",
        "    def build(self, input_shape):\n",
        "        assert isinstance(input_shape, list)\n",
        "        # Create a trainable weight variable for this layer.\n",
        "\n",
        "        self.W_a = self.add_weight(name='W_a',\n",
        "                                   shape=tf.TensorShape((input_shape[0][2], input_shape[0][2])),\n",
        "                                   initializer='uniform',\n",
        "                                   trainable=True)\n",
        "        self.U_a = self.add_weight(name='U_a',\n",
        "                                   shape=tf.TensorShape((input_shape[1][2], input_shape[0][2])),\n",
        "                                   initializer='uniform',\n",
        "                                   trainable=True)\n",
        "        self.V_a = self.add_weight(name='V_a',\n",
        "                                   shape=tf.TensorShape((input_shape[0][2], 1)),\n",
        "                                   initializer='uniform',\n",
        "                                   trainable=True)\n",
        "\n",
        "        super(AttentionLayer, self).build(input_shape)  # Be sure to call this at the end\n",
        "\n",
        "    def call(self, inputs):\n",
        "        \"\"\"\n",
        "        inputs: [encoder_output_sequence, decoder_output_sequence]\n",
        "        \"\"\"\n",
        "        assert type(inputs) == list\n",
        "        encoder_out_seq, decoder_out_seq = inputs\n",
        "\n",
        "        logger.debug(f\"encoder_out_seq.shape = {encoder_out_seq.shape}\")\n",
        "        logger.debug(f\"decoder_out_seq.shape = {decoder_out_seq.shape}\")\n",
        "\n",
        "        def energy_step(inputs, states):\n",
        "            \"\"\" Step function for computing energy for a single decoder state\n",
        "            inputs: (batchsize * 1 * de_in_dim)\n",
        "            states: (batchsize * 1 * de_latent_dim)\n",
        "            \"\"\"\n",
        "\n",
        "            logger.debug(\"Running energy computation step\")\n",
        "\n",
        "            if not isinstance(states, (list, tuple)):\n",
        "                raise TypeError(f\"States must be an iterable. Got {states} of type {type(states)}\")\n",
        "\n",
        "            encoder_full_seq = states[-1]\n",
        "\n",
        "            \"\"\" Computing S.Wa where S=[s0, s1, ..., si]\"\"\"\n",
        "            # <= batch size * en_seq_len * latent_dim\n",
        "            W_a_dot_s = K.dot(encoder_full_seq, self.W_a)\n",
        "\n",
        "            \"\"\" Computing hj.Ua \"\"\"\n",
        "            U_a_dot_h = K.expand_dims(K.dot(inputs, self.U_a), 1)  # <= batch_size, 1, latent_dim\n",
        "\n",
        "            logger.debug(f\"U_a_dot_h.shape = {U_a_dot_h.shape}\")\n",
        "\n",
        "            \"\"\" tanh(S.Wa + hj.Ua) \"\"\"\n",
        "            # <= batch_size*en_seq_len, latent_dim\n",
        "            Ws_plus_Uh = K.tanh(W_a_dot_s + U_a_dot_h)\n",
        "\n",
        "            logger.debug(f\"Ws_plus_Uh.shape = {Ws_plus_Uh.shape}\")\n",
        "\n",
        "            \"\"\" softmax(va.tanh(S.Wa + hj.Ua)) \"\"\"\n",
        "            # <= batch_size, en_seq_len\n",
        "            e_i = K.squeeze(K.dot(Ws_plus_Uh, self.V_a), axis=-1)\n",
        "            # <= batch_size, en_seq_len\n",
        "            e_i = K.softmax(e_i)\n",
        "\n",
        "            logger.debug(f\"ei.shape = {e_i.shape}\")\n",
        "\n",
        "            return e_i, [e_i]\n",
        "\n",
        "        def context_step(inputs, states):\n",
        "            \"\"\" Step function for computing ci using ei \"\"\"\n",
        "\n",
        "            logger.debug(\"Running attention vector computation step\")\n",
        "\n",
        "            if not isinstance(states, (list, tuple)):\n",
        "                raise TypeError(f\"States must be an iterable. Got {states} of type {type(states)}\")\n",
        "\n",
        "            encoder_full_seq = states[-1]\n",
        "\n",
        "            # <= batch_size, hidden_size\n",
        "            c_i = K.sum(encoder_full_seq * K.expand_dims(inputs, -1), axis=1)\n",
        "\n",
        "            logger.debug(f\"ci.shape = {c_i.shape}\")\n",
        "\n",
        "            return c_i, [c_i]\n",
        "\n",
        "        # we don't maintain states between steps when computing attention\n",
        "        # attention is stateless, so we're passing a fake state for RNN step function\n",
        "        fake_state_c = K.sum(encoder_out_seq, axis=1)\n",
        "        fake_state_e = K.sum(encoder_out_seq, axis=2)  # <= (batch_size, enc_seq_len, latent_dim\n",
        "\n",
        "        \"\"\" Computing energy outputs \"\"\"\n",
        "        # e_outputs => (batch_size, de_seq_len, en_seq_len)\n",
        "        last_out, e_outputs, _ = K.rnn(\n",
        "            energy_step, decoder_out_seq, [fake_state_e], constants=[encoder_out_seq]\n",
        "        )\n",
        "\n",
        "        \"\"\" Computing context vectors \"\"\"\n",
        "        last_out, c_outputs, _ = K.rnn(\n",
        "            context_step, e_outputs, [fake_state_c], constants=[encoder_out_seq]\n",
        "        )\n",
        "\n",
        "        return c_outputs, e_outputs\n",
        "\n",
        "    def compute_output_shape(self, input_shape):\n",
        "        \"\"\" Outputs produced by the layer \"\"\"\n",
        "        return [\n",
        "            tf.TensorShape((input_shape[1][0], input_shape[1][1], input_shape[1][2])),\n",
        "            tf.TensorShape((input_shape[1][0], input_shape[1][1], input_shape[0][1]))\n",
        "        ]"
      ],
      "metadata": {
        "execution": {
          "iopub.status.busy": "2022-11-05T17:25:31.059943Z",
          "iopub.status.idle": "2022-11-05T17:25:31.060827Z",
          "shell.execute_reply.started": "2022-11-05T17:25:31.060537Z",
          "shell.execute_reply": "2022-11-05T17:25:31.060565Z"
        },
        "trusted": true,
        "id": "y0YL6ri44dE9"
      },
      "execution_count": 28,
      "outputs": []
    },
    {
      "cell_type": "code",
      "source": [
        "K.clear_session()\n",
        "\n",
        "latent_dim = 300 \n",
        "embedding_dim = 100 \n",
        "\n",
        "encoder_inputs = Input(shape=(max_text_len,))\n",
        "encoder_emb = Embedding(text_vocab_length, embedding_dim, trainable=True)(encoder_inputs)\n",
        "\n",
        "encoder_lstm1 = LSTM(latent_dim, return_sequences=True, return_state=True, dropout=0.3, recurrent_dropout=0.2)\n",
        "encoder_output1, state_h1, state_c1 = encoder_lstm1(encoder_emb)\n",
        "\n",
        "encoder_lstm2 = LSTM(latent_dim, return_sequences=True, return_state=True, dropout=0.3, recurrent_dropout=0.2)\n",
        "encoder_output2, state_h2, state_c2 = encoder_lstm2(encoder_output1)\n",
        "\n",
        "encoder_lstm = LSTM(latent_dim, return_sequences=True, return_state=True, dropout=0.3, recurrent_dropout=0.2)\n",
        "encoder_outputs, state_h, state_c = encoder_lstm(encoder_output2)\n",
        "encoder_states = [state_h,state_c]\n",
        "\n",
        "decoder_inputs = Input(shape=(None,))\n",
        "decoder_emb = Embedding(headline_vocab_length, embedding_dim, trainable=True)(decoder_inputs)\n",
        "\n",
        "decoder_lstm = LSTM(latent_dim, return_sequences=True, return_state=True, dropout=0.3, recurrent_dropout=0.2)\n",
        "decoder_outputs, decoder_fwd_state, decoder_bwd_state = decoder_lstm(decoder_emb, initial_state=encoder_states) \n",
        "\n",
        "attn_layer = AttentionLayer(name='attention_layer') \n",
        "attn_outputs, attn_states = attn_layer([encoder_outputs, decoder_outputs]) \n",
        "\n",
        "decoder_concat_outputs = Concatenate(axis=-1,name='concat_layer')([decoder_outputs, attn_outputs])\n",
        "\n",
        "decoder_dense = TimeDistributed(Dense(headline_vocab_length,activation='softmax'))\n",
        "decoder_outputs = decoder_dense(decoder_concat_outputs)\n",
        "\n",
        "model = Model([encoder_inputs, decoder_inputs], decoder_outputs)\n",
        "model.summary()"
      ],
      "metadata": {
        "execution": {
          "iopub.status.busy": "2022-11-05T17:25:31.062443Z",
          "iopub.status.idle": "2022-11-05T17:25:31.063322Z",
          "shell.execute_reply.started": "2022-11-05T17:25:31.063031Z",
          "shell.execute_reply": "2022-11-05T17:25:31.063060Z"
        },
        "trusted": true,
        "colab": {
          "base_uri": "https://localhost:8080/"
        },
        "id": "PalwZCl54dE-",
        "outputId": "a7c89536-e0f1-4d87-83e5-60aad6528751"
      },
      "execution_count": 29,
      "outputs": [
        {
          "output_type": "stream",
          "name": "stdout",
          "text": [
            "Model: \"model\"\n",
            "__________________________________________________________________________________________________\n",
            " Layer (type)                   Output Shape         Param #     Connected to                     \n",
            "==================================================================================================\n",
            " input_1 (InputLayer)           [(None, 350)]        0           []                               \n",
            "                                                                                                  \n",
            " embedding (Embedding)          (None, 350, 100)     3285200     ['input_1[0][0]']                \n",
            "                                                                                                  \n",
            " lstm (LSTM)                    [(None, 350, 300),   481200      ['embedding[0][0]']              \n",
            "                                 (None, 300),                                                     \n",
            "                                 (None, 300)]                                                     \n",
            "                                                                                                  \n",
            " input_2 (InputLayer)           [(None, None)]       0           []                               \n",
            "                                                                                                  \n",
            " lstm_1 (LSTM)                  [(None, 350, 300),   721200      ['lstm[0][0]']                   \n",
            "                                 (None, 300),                                                     \n",
            "                                 (None, 300)]                                                     \n",
            "                                                                                                  \n",
            " embedding_1 (Embedding)        (None, None, 100)    1365800     ['input_2[0][0]']                \n",
            "                                                                                                  \n",
            " lstm_2 (LSTM)                  [(None, 350, 300),   721200      ['lstm_1[0][0]']                 \n",
            "                                 (None, 300),                                                     \n",
            "                                 (None, 300)]                                                     \n",
            "                                                                                                  \n",
            " lstm_3 (LSTM)                  [(None, None, 300),  481200      ['embedding_1[0][0]',            \n",
            "                                 (None, 300),                     'lstm_2[0][1]',                 \n",
            "                                 (None, 300)]                     'lstm_2[0][2]']                 \n",
            "                                                                                                  \n",
            " attention_layer (AttentionLaye  ((None, None, 300),  180300     ['lstm_2[0][0]',                 \n",
            " r)                              (None, None, 350))               'lstm_3[0][0]']                 \n",
            "                                                                                                  \n",
            " concat_layer (Concatenate)     (None, None, 600)    0           ['lstm_3[0][0]',                 \n",
            "                                                                  'attention_layer[0][0]']        \n",
            "                                                                                                  \n",
            " time_distributed (TimeDistribu  (None, None, 13658)  8208458    ['concat_layer[0][0]']           \n",
            " ted)                                                                                             \n",
            "                                                                                                  \n",
            "==================================================================================================\n",
            "Total params: 15,444,558\n",
            "Trainable params: 15,444,558\n",
            "Non-trainable params: 0\n",
            "__________________________________________________________________________________________________\n"
          ]
        }
      ]
    },
    {
      "cell_type": "code",
      "source": [
        "plot_model(model,'model.png',show_shapes=True,dpi=100)"
      ],
      "metadata": {
        "execution": {
          "iopub.status.busy": "2022-11-05T17:25:31.064878Z",
          "iopub.status.idle": "2022-11-05T17:25:31.065755Z",
          "shell.execute_reply.started": "2022-11-05T17:25:31.065469Z",
          "shell.execute_reply": "2022-11-05T17:25:31.065497Z"
        },
        "trusted": true,
        "colab": {
          "base_uri": "https://localhost:8080/",
          "height": 1000
        },
        "id": "NSs3IsF04dE-",
        "outputId": "48fdc75d-466a-498f-934e-244b73fd4ba6"
      },
      "execution_count": 30,
      "outputs": [
        {
          "output_type": "execute_result",
          "data": {
            "image/png": "[encoded data removed]",
            "text/plain": [
              "<IPython.core.display.Image object>"
            ]
          },
          "metadata": {},
          "execution_count": 30
        }
      ]
    },
    {
      "cell_type": "code",
      "source": [
        "model.compile(loss='sparse_categorical_crossentropy',optimizer='rmsprop',metrics='accuracy')"
      ],
      "metadata": {
        "execution": {
          "iopub.status.busy": "2022-11-05T17:25:31.067365Z",
          "iopub.status.idle": "2022-11-05T17:25:31.068251Z",
          "shell.execute_reply.started": "2022-11-05T17:25:31.067930Z",
          "shell.execute_reply": "2022-11-05T17:25:31.067958Z"
        },
        "trusted": true,
        "id": "XsvjUasn4dE-"
      },
      "execution_count": 31,
      "outputs": []
    },
    {
      "cell_type": "code",
      "source": [
        "X_train, X_test, y_train, y_test = train_test_split(text_pad_sequences,headline_pad_sequences,test_size=0.25,shuffle=True,random_state=101)"
      ],
      "metadata": {
        "execution": {
          "iopub.status.busy": "2022-11-05T17:25:31.069814Z",
          "iopub.status.idle": "2022-11-05T17:25:31.070707Z",
          "shell.execute_reply.started": "2022-11-05T17:25:31.070418Z",
          "shell.execute_reply": "2022-11-05T17:25:31.070447Z"
        },
        "trusted": true,
        "id": "QiqL1RNe4dE-"
      },
      "execution_count": 32,
      "outputs": []
    },
    {
      "cell_type": "code",
      "source": [
        "es = EarlyStopping(monitor='val_accuracy',mode='max',verbose=1,patience=40)\n",
        "rl = ReduceLROnPlateau(monitor='val_accuracy',mode='max',verbose=1,patience=5,factor=0.1,min_lr=0.01)\n",
        "mc = ModelCheckpoint('checkpoint/',monitor='val_accuracy',verbose=1,mode='max',save_best_only=True)\n",
        "\n",
        "r = model.fit([X_train,y_train[:,:-1]],\n",
        "             y_train.reshape(y_train.shape[0],y_train.shape[1],1)[:,1:],\n",
        "             epochs=2,\n",
        "              steps_per_epoch=20,\n",
        "             batch_size=256,\n",
        "             callbacks=[es,rl,mc],\n",
        "             validation_data=([X_test,y_test[:,:-1]],y_test.reshape(y_test.shape[0],y_test.shape[1],1)[:,1:]))"
      ],
      "metadata": {
        "execution": {
          "iopub.status.busy": "2022-11-05T17:25:31.072467Z",
          "iopub.status.idle": "2022-11-05T17:25:31.073561Z",
          "shell.execute_reply.started": "2022-11-05T17:25:31.073245Z",
          "shell.execute_reply": "2022-11-05T17:25:31.073282Z"
        },
        "trusted": true,
        "colab": {
          "base_uri": "https://localhost:8080/"
        },
        "id": "TfpGmW_j4dE-",
        "outputId": "2a63830f-1fa3-496f-cd46-8dd2b20d3dc6"
      },
      "execution_count": null,
      "outputs": [
        {
          "output_type": "stream",
          "name": "stdout",
          "text": [
            "Epoch 1/2\n"
          ]
        }
      ]
    },
    {
      "cell_type": "code",
      "source": [
        "plt.plot(r.history['loss'],'r',label='train loss')\n",
        "plt.plot(r.history['val_loss'],'b',label='test loss')\n",
        "plt.xlabel('No. of Epochs')\n",
        "plt.ylabel('Loss')\n",
        "plt.title('Loss Graph')\n",
        "plt.legend();"
      ],
      "metadata": {
        "execution": {
          "iopub.status.busy": "2022-11-05T17:25:31.075264Z",
          "iopub.status.idle": "2022-11-05T17:25:31.076175Z",
          "shell.execute_reply.started": "2022-11-05T17:25:31.075849Z",
          "shell.execute_reply": "2022-11-05T17:25:31.075878Z"
        },
        "trusted": true,
        "id": "HcMElNlc4dE_"
      },
      "execution_count": null,
      "outputs": []
    },
    {
      "cell_type": "code",
      "source": [
        "plt.plot(r.history['accuracy'],'r',label='train accuracy')\n",
        "plt.plot(r.history['val_accuracy'],'b',label='test accuracy')\n",
        "plt.xlabel('No. of Epochs')\n",
        "plt.ylabel('Accuracy')\n",
        "plt.title('Accuracy Graph')\n",
        "plt.legend();"
      ],
      "metadata": {
        "execution": {
          "iopub.status.busy": "2022-11-05T17:25:31.077781Z",
          "iopub.status.idle": "2022-11-05T17:25:31.078668Z",
          "shell.execute_reply.started": "2022-11-05T17:25:31.078382Z",
          "shell.execute_reply": "2022-11-05T17:25:31.078410Z"
        },
        "trusted": true,
        "id": "QciCJph14dE_"
      },
      "execution_count": null,
      "outputs": []
    },
    {
      "cell_type": "code",
      "source": [
        "model.evaluate([X_test,y_test[:,:-1]],y_test.reshape(y_test.shape[0],y_test.shape[1],1)[:,1:])"
      ],
      "metadata": {
        "execution": {
          "iopub.status.busy": "2022-11-05T17:25:31.080293Z",
          "iopub.status.idle": "2022-11-05T17:25:31.081182Z",
          "shell.execute_reply.started": "2022-11-05T17:25:31.080860Z",
          "shell.execute_reply": "2022-11-05T17:25:31.080889Z"
        },
        "trusted": true,
        "id": "oUGvuKNV4dE_"
      },
      "execution_count": null,
      "outputs": []
    },
    {
      "cell_type": "code",
      "source": [
        "model.save('news_article_summary_generator.h5')"
      ],
      "metadata": {
        "execution": {
          "iopub.status.busy": "2022-11-05T17:25:31.082762Z",
          "iopub.status.idle": "2022-11-05T17:25:31.083657Z",
          "shell.execute_reply.started": "2022-11-05T17:25:31.083368Z",
          "shell.execute_reply": "2022-11-05T17:25:31.083396Z"
        },
        "trusted": true,
        "id": "M1FLR3aG4dE_"
      },
      "execution_count": null,
      "outputs": []
    },
    {
      "cell_type": "code",
      "source": [
        "lm = load_model('news_article_summary_generator.h5',custom_objects={'AttentionLayer': AttentionLayer})\n",
        "lm"
      ],
      "metadata": {
        "execution": {
          "iopub.status.busy": "2022-11-05T17:25:31.085130Z",
          "iopub.status.idle": "2022-11-05T17:25:31.085917Z",
          "shell.execute_reply.started": "2022-11-05T17:25:31.085635Z",
          "shell.execute_reply": "2022-11-05T17:25:31.085663Z"
        },
        "trusted": true,
        "id": "qsvASM7S4dE_"
      },
      "execution_count": null,
      "outputs": []
    },
    {
      "cell_type": "code",
      "source": [
        "encoder_model = Model(inputs=encoder_inputs, outputs=[encoder_outputs, state_h, state_c])\n",
        "\n",
        "decoder_initial_state_a = Input(shape=(latent_dim,))\n",
        "decoder_initial_state_c = Input(shape=(latent_dim,))\n",
        "decoder_hidden_state = Input(shape=(max_text_len, latent_dim))\n",
        "\n",
        "decoder_out, decoder_state_a, decoder_state_c = decoder_lstm(decoder_emb, initial_state=[decoder_initial_state_a, decoder_initial_state_c])\n",
        "attn_out_inf, attn_states_inf = attn_layer([decoder_hidden_state, decoder_out])\n",
        "decoder_inf_concat_outputs = Concatenate(axis=-1, name='concat')([decoder_out, attn_out_inf])\n",
        "\n",
        "decoder_final = decoder_dense(decoder_inf_concat_outputs)\n",
        "decoder_model = Model([decoder_inputs]+[decoder_hidden_state, decoder_initial_state_a, decoder_initial_state_c], [decoder_final]+[decoder_state_a, decoder_state_c])"
      ],
      "metadata": {
        "execution": {
          "iopub.status.busy": "2022-11-05T17:25:31.087572Z",
          "iopub.status.idle": "2022-11-05T17:25:31.088378Z",
          "shell.execute_reply.started": "2022-11-05T17:25:31.088096Z",
          "shell.execute_reply": "2022-11-05T17:25:31.088125Z"
        },
        "trusted": true,
        "id": "1e0egLSE4dE_"
      },
      "execution_count": null,
      "outputs": []
    },
    {
      "cell_type": "code",
      "source": [
        "def decode_sequences(input_sequence):\n",
        "    encoder_out, encoder_a, encoder_c = encoder_model.predict(input_sequence)\n",
        "    next_input = np.zeros((1,1))\n",
        "    next_input[0,0] = y_tokenizer.word_index['start']\n",
        "    output_sequence = ''\n",
        "    stop = False\n",
        "    while not stop:\n",
        "        decoded_out, trans_state_a, trans_state_c = decoder_model.predict([next_input] + [encoder_out, encoder_a, encoder_c])\n",
        "        output_idx = np.argmax(decoded_out[0, -1, :])\n",
        "        if output_idx == y_tokenizer.word_index['end']: \n",
        "            stop = True\n",
        "        elif output_idx > 0 and output_idx != y_tokenizer.word_index['start']:\n",
        "            output_token = y_tokenizer.index_word[output_idx] \n",
        "            output_sequence = output_sequence + ' ' + output_token \n",
        "        next_input[0,0] = output_idx\n",
        "        # Continously update the transient state vectors in decoder.\n",
        "        encoder_a, encoder_c = trans_state_a, trans_state_c\n",
        "        \n",
        "    return output_sequence     "
      ],
      "metadata": {
        "execution": {
          "iopub.status.busy": "2022-11-05T17:25:31.089816Z",
          "iopub.status.idle": "2022-11-05T17:25:31.090617Z",
          "shell.execute_reply.started": "2022-11-05T17:25:31.090335Z",
          "shell.execute_reply": "2022-11-05T17:25:31.090363Z"
        },
        "trusted": true,
        "id": "KzC0ZBRQ4dFA"
      },
      "execution_count": null,
      "outputs": []
    },
    {
      "cell_type": "code",
      "source": [
        "def sequence_to_text(input_sequence,mode):\n",
        "    res = ''\n",
        "    \n",
        "    if mode == 'input':\n",
        "        for idx in input_sequence:\n",
        "            if idx:\n",
        "                res = res + x_tokenizer.index_word[idx] + ' '\n",
        "    \n",
        "    elif mode == 'output':\n",
        "        for idx in input_sequence:\n",
        "            if idx:\n",
        "                if y_tokenizer.index_word[idx] != 'start' and y_tokenizer.index_word[idx] != 'end':\n",
        "                    res = res + y_tokenizer.index_word[idx] + ' '\n",
        "    \n",
        "    return res"
      ],
      "metadata": {
        "execution": {
          "iopub.status.busy": "2022-11-05T17:25:31.091898Z",
          "iopub.status.idle": "2022-11-05T17:25:31.092755Z",
          "shell.execute_reply.started": "2022-11-05T17:25:31.092477Z",
          "shell.execute_reply": "2022-11-05T17:25:31.092505Z"
        },
        "trusted": true,
        "id": "9sP51L2R4dFA"
      },
      "execution_count": null,
      "outputs": []
    },
    {
      "cell_type": "code",
      "source": [
        "predicted_summaries = []\n",
        "\n",
        "for i in range(20):\n",
        "    print(\"News Article:\",sequence_to_text(X_test[i],'input'))\n",
        "    print(\"Original Article Summary:\",sequence_to_text(y_test[i],'output'))\n",
        "    pred_summary = decode_sequences(X_test[i].reshape(1,max_text_len))\n",
        "    print(\"Predicted Article Summary:\",pred_summary)\n",
        "    predicted_summaries.append(pred_summary)\n",
        "    print()\n",
        "    print('---------------------------')\n",
        "    print()"
      ],
      "metadata": {
        "execution": {
          "iopub.status.busy": "2022-11-05T17:25:31.094323Z",
          "iopub.status.idle": "2022-11-05T17:25:31.095774Z",
          "shell.execute_reply.started": "2022-11-05T17:25:31.095440Z",
          "shell.execute_reply": "2022-11-05T17:25:31.095473Z"
        },
        "trusted": true,
        "id": "5QTP5ZlK4dFA"
      },
      "execution_count": null,
      "outputs": []
    },
    {
      "cell_type": "code",
      "source": [
        "original_summaries = []\n",
        "references = []\n",
        "\n",
        "for i in range(20):\n",
        "    original_summaries.append(sequence_to_text(y_test[i],'output'))\n",
        "\n",
        "for summary in original_summaries:\n",
        "    ref = ' '.join(summary.split())\n",
        "    references.append(ref)"
      ],
      "metadata": {
        "execution": {
          "iopub.status.busy": "2022-11-05T17:25:31.097325Z",
          "iopub.status.idle": "2022-11-05T17:25:31.097858Z",
          "shell.execute_reply.started": "2022-11-05T17:25:31.097584Z",
          "shell.execute_reply": "2022-11-05T17:25:31.097610Z"
        },
        "trusted": true,
        "id": "1hr5iX9j4dFA"
      },
      "execution_count": null,
      "outputs": []
    },
    {
      "cell_type": "code",
      "source": [
        "for i in range(20):\n",
        "    print(\"Original News Article Summary:\",references[i])\n",
        "    print(\"Predicted News Article Summary:\",predicted_summaries[i])\n",
        "    print(\"BLEU Score:\",sentence_bleu(references[i],predicted_summaries[i],weights=(0.25,0.25,0.25,0.25)))\n",
        "    print(\"Word Error Rate:\",wer(references[i],predicted_summaries[i]))\n",
        "    print(\"Match Error Rate:\",mer(references[i],predicted_summaries[i]))\n",
        "    print(\"Character Error Rate:\",cer(references[i],predicted_summaries[i]))\n",
        "    print(\"Word Information Preserved:\",wip(references[i],predicted_summaries[i]))\n",
        "    print(\"Word Information Lost:\",wil(references[i],predicted_summaries[i]))\n",
        "    print('------------------------------------------------------')"
      ],
      "metadata": {
        "execution": {
          "iopub.status.busy": "2022-11-05T17:25:31.099996Z",
          "iopub.status.idle": "2022-11-05T17:25:31.100581Z",
          "shell.execute_reply.started": "2022-11-05T17:25:31.100287Z",
          "shell.execute_reply": "2022-11-05T17:25:31.100314Z"
        },
        "trusted": true,
        "id": "Q7V8yaWV4dFA"
      },
      "execution_count": null,
      "outputs": []
    },
    {
      "cell_type": "code",
      "source": [],
      "metadata": {
        "id": "3H6WFEZqR_TV"
      },
      "execution_count": null,
      "outputs": []
    }
  ]
}